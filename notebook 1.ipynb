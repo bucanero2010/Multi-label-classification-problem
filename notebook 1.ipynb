{
 "cells": [
  {
   "cell_type": "markdown",
   "metadata": {
    "collapsed": true
   },
   "source": [
    "# MARATÓN BEHIND THE CODE 2020\n",
    "\n",
    "## DESAFÍO 2: PARTE 1"
   ]
  },
  {
   "cell_type": "markdown",
   "metadata": {},
   "source": [
    "### Introducción"
   ]
  },
  {
   "cell_type": "markdown",
   "metadata": {},
   "source": [
    "En proyectos de ciencia de datos destinados a construir modelos de *aprendizaje automático*, o aprendizaje estadístico, es muy inusual que los datos iniciales ya estén en el formato ideal para la construcción de modelos. Se requieren varios pasos intermedios de preprocesamiento de datos, como la codificación de variables categóricas, normalización de variables numéricas, tratamiento de datos faltantes, etc. La biblioteca **scikit-learn**, una de las bibliotecas de código abierto más populares para *aprendizaje automático* en el mundo, ya tiene varias funciones integradas para realizar las transformaciones de datos más utilizadas. Sin embargo, en un flujo común de un modelo de aprendizaje automático, es necesario aplicar estas transformaciones al menos dos veces: la primera vez para \"entrenar\" el modelo, y luego nuevamente cuando se envían nuevos datos como entrada para ser clasificados por este modelo.\n",
    "\n",
    "Para facilitar el trabajo con este tipo de flujos, scikit-learn también cuenta con una herramienta llamada **Pipeline**, que no es más que una lista ordenada de transformaciones que se deben aplicar a los datos. Para ayudar en el desarrollo y la gestión de todo el ciclo de vida de estas aplicaciones, además del uso de Pipelines, los equipos de científicos de datos pueden utilizar en conjunto **Watson Machine Learning**, que tiene docenas de herramientas para entrenar , gestionar, alojar y evaluar modelos basados ​​en el aprendizaje automático. Además, Watson Machine Learning es capaz de encapsular pipelines y modelos en una API lista para usar e integrarse con otras aplicaciones.\n",
    "\n",
    "Durante el desafío 2, aprenderás como crear un **Pipeline** para un modelo de clasificación y alojarlo como una API con la ayuda de Watson Machine Learning. Una vez alojado, puedes integrar el modelo creado con otras aplicaciones, como asistentes virtuales y más. En este notebook, se presentará un ejemplo funcional de creación de un modelo y un pipeline en scikit-learn (¡que puedes usar como plantilla para tu solución!)."
   ]
  },
  {
   "cell_type": "markdown",
   "metadata": {},
   "source": [
    "### Trabajando con Pipelines del scikit-learn"
   ]
  },
  {
   "cell_type": "code",
   "execution_count": 39,
   "metadata": {},
   "outputs": [
    {
     "name": "stdout",
     "output_type": "stream",
     "text": [
      "Requirement already up-to-date: scikit-learn==0.20.0 in /opt/conda/envs/Python36/lib/python3.6/site-packages (0.20.0)\n",
      "Requirement already satisfied, skipping upgrade: numpy>=1.8.2 in /opt/conda/envs/Python36/lib/python3.6/site-packages (from scikit-learn==0.20.0) (1.15.4)\n",
      "Requirement already satisfied, skipping upgrade: scipy>=0.13.3 in /opt/conda/envs/Python36/lib/python3.6/site-packages (from scikit-learn==0.20.0) (1.2.0)\n",
      "Requirement already satisfied: vecstack in /opt/conda/envs/Python36/lib/python3.6/site-packages (0.4.0)\n",
      "Requirement already satisfied: scipy in /opt/conda/envs/Python36/lib/python3.6/site-packages (from vecstack) (1.2.0)\n",
      "Requirement already satisfied: numpy in /opt/conda/envs/Python36/lib/python3.6/site-packages (from vecstack) (1.15.4)\n",
      "Requirement already satisfied: scikit-learn>=0.18 in /opt/conda/envs/Python36/lib/python3.6/site-packages (from vecstack) (0.20.0)\n",
      "Requirement already satisfied: lightgbm in /opt/conda/envs/Python36/lib/python3.6/site-packages (2.3.1)\n",
      "Requirement already satisfied: scipy in /opt/conda/envs/Python36/lib/python3.6/site-packages (from lightgbm) (1.2.0)\n",
      "Requirement already satisfied: numpy in /opt/conda/envs/Python36/lib/python3.6/site-packages (from lightgbm) (1.15.4)\n",
      "Requirement already satisfied: scikit-learn in /opt/conda/envs/Python36/lib/python3.6/site-packages (from lightgbm) (0.20.0)\n"
     ]
    }
   ],
   "source": [
    "# Primero, realizamos la instalación de scikit-learn versión 0.20.0 en el Kernel de este notebook:\n",
    "!pip install scikit-learn==0.20.0 --upgrade\n",
    "!pip install vecstack\n",
    "!pip install lightgbm"
   ]
  },
  {
   "cell_type": "code",
   "execution_count": 40,
   "metadata": {},
   "outputs": [],
   "source": [
    "# A continuación importaremos varias bibliotecas que se utilizarán:\n",
    "\n",
    "# Biblioteca para trabajar con JSON\n",
    "import json\n",
    "\n",
    "# Biblioteca para realizar solicitudes HTTP\n",
    "import requests\n",
    "\n",
    "# Biblioteca para exploración y análisis de datos\n",
    "import pandas as pd\n",
    "\n",
    "# Biblioteca con métodos numéricos y representaciones matriciales\n",
    "import numpy as np\n",
    "\n",
    "# Biblioteca para construir un modelo basado en la técnica Gradient Boosting\n",
    "import xgboost as xgb\n",
    "\n",
    "# Paquetes scikit-learn para preprocesamiento de datos\n",
    "# \"SimpleImputer\" es una transformación para completar los valores faltantes en conjuntos de datos\n",
    "from sklearn.impute import SimpleImputer\n",
    "from sklearn.metrics import accuracy_score\n",
    "# Paquetes de scikit-learn para entrenamiento de modelos y construcción de pipelines\n",
    "# Método para separar el conjunto de datos en muestras de testes y entrenamiento\n",
    "from sklearn.model_selection import train_test_split\n",
    "# Método para crear modelos basados en árboles de decisión\n",
    "from sklearn.tree import DecisionTreeClassifier\n",
    "from sklearn.ensemble import RandomForestClassifier,ExtraTreesClassifier\n",
    "from sklearn.linear_model import LinearRegression\n",
    "# Clase para crear una pipeline de machine-learning\n",
    "from sklearn.pipeline import Pipeline\n",
    "from sklearn.datasets import load_iris\n",
    "from sklearn.decomposition import PCA\n",
    "from sklearn.preprocessing import StandardScaler\n",
    "#om sklearn.ensemble import StackingClassifier\n",
    "#import torch\n",
    "from vecstack import stacking\n",
    "from sklearn.linear_model import LogisticRegression\n",
    "from sklearn.svm import LinearSVC\n",
    "from sklearn.neighbors import KNeighborsClassifier\n",
    "from sklearn.linear_model import SGDClassifier\n",
    "from sklearn.ensemble import GradientBoostingClassifier\n",
    "from sklearn.model_selection import RandomizedSearchCV\n",
    "# Paquetes scikit-learn para evaluación de modelos\n",
    "# Métodos para la validación cruzada del modelo creado\n",
    "from sklearn.model_selection import KFold, cross_validate\n",
    "import random\n",
    "import lightgbm as lgb"
   ]
  },
  {
   "cell_type": "markdown",
   "metadata": {},
   "source": [
    "### Importar  un .csv a tu proyecto en IBM Cloud Pak for Data al Kernel de este notebook"
   ]
  },
  {
   "cell_type": "markdown",
   "metadata": {},
   "source": [
    "Primero, importaremos el conjunto de datos proporcionado para el desafío, que ya está incluido en este proyecto.\n",
    "\n",
    "Puedes importar datos desde un archivo .csv directamente al Kernel del portátil como un Pandas DataFrame, que se usa ampliamente para manipular datos en Python.\n",
    "\n",
    "Para realizar la importación, simplemente selecciona la siguiente celda y siga las instrucciones en la imagen a continuación:\n",
    "\n",
    "![alt text](https://i.imgur.com/K1DwL9I.png \"importing-csv-as-df\")\n",
    "\n",
    "Después de seleccionar la opción **\"Insertar en el código\"**, la celda de abajo se llenará con el código necesario para importar y leer los datos en el archivo .csv como un Pandas DataFrame."
   ]
  },
  {
   "cell_type": "code",
   "execution_count": 41,
   "metadata": {},
   "outputs": [
    {
     "data": {
      "text/html": [
       "<div>\n",
       "<style scoped>\n",
       "    .dataframe tbody tr th:only-of-type {\n",
       "        vertical-align: middle;\n",
       "    }\n",
       "\n",
       "    .dataframe tbody tr th {\n",
       "        vertical-align: top;\n",
       "    }\n",
       "\n",
       "    .dataframe thead th {\n",
       "        text-align: right;\n",
       "    }\n",
       "</style>\n",
       "<table border=\"1\" class=\"dataframe\">\n",
       "  <thead>\n",
       "    <tr style=\"text-align: right;\">\n",
       "      <th></th>\n",
       "      <th>Unnamed: 0</th>\n",
       "      <th>NAME</th>\n",
       "      <th>USER_ID</th>\n",
       "      <th>HOURS_DATASCIENCE</th>\n",
       "      <th>HOURS_BACKEND</th>\n",
       "      <th>HOURS_FRONTEND</th>\n",
       "      <th>NUM_COURSES_BEGINNER_DATASCIENCE</th>\n",
       "      <th>NUM_COURSES_BEGINNER_BACKEND</th>\n",
       "      <th>NUM_COURSES_BEGINNER_FRONTEND</th>\n",
       "      <th>NUM_COURSES_ADVANCED_DATASCIENCE</th>\n",
       "      <th>NUM_COURSES_ADVANCED_BACKEND</th>\n",
       "      <th>NUM_COURSES_ADVANCED_FRONTEND</th>\n",
       "      <th>AVG_SCORE_DATASCIENCE</th>\n",
       "      <th>AVG_SCORE_BACKEND</th>\n",
       "      <th>AVG_SCORE_FRONTEND</th>\n",
       "      <th>PROFILE</th>\n",
       "    </tr>\n",
       "  </thead>\n",
       "  <tbody>\n",
       "    <tr>\n",
       "      <th>0</th>\n",
       "      <td>28</td>\n",
       "      <td>Stormy Muto</td>\n",
       "      <td>58283940</td>\n",
       "      <td>7.0</td>\n",
       "      <td>39.0</td>\n",
       "      <td>29.0</td>\n",
       "      <td>2.0</td>\n",
       "      <td>4.0</td>\n",
       "      <td>0.0</td>\n",
       "      <td>2.0</td>\n",
       "      <td>5.0</td>\n",
       "      <td>0.0</td>\n",
       "      <td>84.0</td>\n",
       "      <td>74.0</td>\n",
       "      <td>NaN</td>\n",
       "      <td>beginner_front_end</td>\n",
       "    </tr>\n",
       "    <tr>\n",
       "      <th>1</th>\n",
       "      <td>81</td>\n",
       "      <td>Carlos Ferro</td>\n",
       "      <td>1357218</td>\n",
       "      <td>32.0</td>\n",
       "      <td>0.0</td>\n",
       "      <td>44.0</td>\n",
       "      <td>2.0</td>\n",
       "      <td>0.0</td>\n",
       "      <td>0.0</td>\n",
       "      <td>0.0</td>\n",
       "      <td>5.0</td>\n",
       "      <td>0.0</td>\n",
       "      <td>67.0</td>\n",
       "      <td>45.0</td>\n",
       "      <td>NaN</td>\n",
       "      <td>beginner_front_end</td>\n",
       "    </tr>\n",
       "    <tr>\n",
       "      <th>2</th>\n",
       "      <td>89</td>\n",
       "      <td>Robby Constantini</td>\n",
       "      <td>63212105</td>\n",
       "      <td>45.0</td>\n",
       "      <td>0.0</td>\n",
       "      <td>59.0</td>\n",
       "      <td>0.0</td>\n",
       "      <td>5.0</td>\n",
       "      <td>4.0</td>\n",
       "      <td>0.0</td>\n",
       "      <td>4.0</td>\n",
       "      <td>1.0</td>\n",
       "      <td>NaN</td>\n",
       "      <td>54.0</td>\n",
       "      <td>47.0</td>\n",
       "      <td>advanced_front_end</td>\n",
       "    </tr>\n",
       "    <tr>\n",
       "      <th>3</th>\n",
       "      <td>138</td>\n",
       "      <td>Paul Mckenny</td>\n",
       "      <td>23239851</td>\n",
       "      <td>36.0</td>\n",
       "      <td>19.0</td>\n",
       "      <td>28.0</td>\n",
       "      <td>0.0</td>\n",
       "      <td>5.0</td>\n",
       "      <td>7.0</td>\n",
       "      <td>0.0</td>\n",
       "      <td>5.0</td>\n",
       "      <td>3.0</td>\n",
       "      <td>NaN</td>\n",
       "      <td>71.0</td>\n",
       "      <td>89.0</td>\n",
       "      <td>beginner_data_science</td>\n",
       "    </tr>\n",
       "    <tr>\n",
       "      <th>4</th>\n",
       "      <td>143</td>\n",
       "      <td>Jean Webb</td>\n",
       "      <td>72234478</td>\n",
       "      <td>61.0</td>\n",
       "      <td>78.0</td>\n",
       "      <td>38.0</td>\n",
       "      <td>6.0</td>\n",
       "      <td>11.0</td>\n",
       "      <td>0.0</td>\n",
       "      <td>4.0</td>\n",
       "      <td>3.0</td>\n",
       "      <td>0.0</td>\n",
       "      <td>66.0</td>\n",
       "      <td>85.0</td>\n",
       "      <td>NaN</td>\n",
       "      <td>advanced_front_end</td>\n",
       "    </tr>\n",
       "  </tbody>\n",
       "</table>\n",
       "</div>"
      ],
      "text/plain": [
       "   Unnamed: 0               NAME   USER_ID  HOURS_DATASCIENCE  HOURS_BACKEND  \\\n",
       "0          28        Stormy Muto  58283940                7.0           39.0   \n",
       "1          81       Carlos Ferro   1357218               32.0            0.0   \n",
       "2          89  Robby Constantini  63212105               45.0            0.0   \n",
       "3         138       Paul Mckenny  23239851               36.0           19.0   \n",
       "4         143          Jean Webb  72234478               61.0           78.0   \n",
       "\n",
       "   HOURS_FRONTEND  NUM_COURSES_BEGINNER_DATASCIENCE  \\\n",
       "0            29.0                               2.0   \n",
       "1            44.0                               2.0   \n",
       "2            59.0                               0.0   \n",
       "3            28.0                               0.0   \n",
       "4            38.0                               6.0   \n",
       "\n",
       "   NUM_COURSES_BEGINNER_BACKEND  NUM_COURSES_BEGINNER_FRONTEND  \\\n",
       "0                           4.0                            0.0   \n",
       "1                           0.0                            0.0   \n",
       "2                           5.0                            4.0   \n",
       "3                           5.0                            7.0   \n",
       "4                          11.0                            0.0   \n",
       "\n",
       "   NUM_COURSES_ADVANCED_DATASCIENCE  NUM_COURSES_ADVANCED_BACKEND  \\\n",
       "0                               2.0                           5.0   \n",
       "1                               0.0                           5.0   \n",
       "2                               0.0                           4.0   \n",
       "3                               0.0                           5.0   \n",
       "4                               4.0                           3.0   \n",
       "\n",
       "   NUM_COURSES_ADVANCED_FRONTEND  AVG_SCORE_DATASCIENCE  AVG_SCORE_BACKEND  \\\n",
       "0                            0.0                   84.0               74.0   \n",
       "1                            0.0                   67.0               45.0   \n",
       "2                            1.0                    NaN               54.0   \n",
       "3                            3.0                    NaN               71.0   \n",
       "4                            0.0                   66.0               85.0   \n",
       "\n",
       "   AVG_SCORE_FRONTEND                PROFILE  \n",
       "0                 NaN     beginner_front_end  \n",
       "1                 NaN     beginner_front_end  \n",
       "2                47.0     advanced_front_end  \n",
       "3                89.0  beginner_data_science  \n",
       "4                 NaN     advanced_front_end  "
      ]
     },
     "execution_count": 41,
     "metadata": {},
     "output_type": "execute_result"
    }
   ],
   "source": [
    "\n",
    "import types\n",
    "import pandas as pd\n",
    "from botocore.client import Config\n",
    "import ibm_boto3\n",
    "\n",
    "def __iter__(self): return 0\n",
    "\n",
    "# @hidden_cell\n",
    "# The following code accesses a file in your IBM Cloud Object Storage. It includes your credentials.\n",
    "# You might want to remove those credentials before you share the notebook.\n",
    "client_4de140da8de64bdf95f1f9c04a4441ca = ibm_boto3.client(service_name='s3',\n",
    "    ibm_api_key_id='WjNev6ktpla59T3HF6o9mcjlXrtHjqZxPTT9RYm8QDU6',\n",
    "    ibm_auth_endpoint=\"https://iam.cloud.ibm.com/oidc/token\",\n",
    "    config=Config(signature_version='oauth'),\n",
    "    endpoint_url='https://s3-api.us-geo.objectstorage.service.networklayer.com')\n",
    "\n",
    "body = client_4de140da8de64bdf95f1f9c04a4441ca.get_object(Bucket='proyectodesafio2-donotdelete-pr-nubmb0etma5koh',Key='dataset-tortuga-desafio-2.csv')['Body']\n",
    "# add missing __iter__ method, so pandas accepts body as file-like object\n",
    "if not hasattr(body, \"__iter__\"): body.__iter__ = types.MethodType( __iter__, body )\n",
    "\n",
    "df_data_1 = pd.read_csv(body)\n",
    "df_data_1.head()\n"
   ]
  },
  {
   "cell_type": "code",
   "execution_count": 42,
   "metadata": {},
   "outputs": [
    {
     "data": {
      "text/html": [
       "<div>\n",
       "<style scoped>\n",
       "    .dataframe tbody tr th:only-of-type {\n",
       "        vertical-align: middle;\n",
       "    }\n",
       "\n",
       "    .dataframe tbody tr th {\n",
       "        vertical-align: top;\n",
       "    }\n",
       "\n",
       "    .dataframe thead th {\n",
       "        text-align: right;\n",
       "    }\n",
       "</style>\n",
       "<table border=\"1\" class=\"dataframe\">\n",
       "  <thead>\n",
       "    <tr style=\"text-align: right;\">\n",
       "      <th></th>\n",
       "      <th>Unnamed: 0</th>\n",
       "      <th>USER_ID</th>\n",
       "      <th>HOURS_DATASCIENCE</th>\n",
       "      <th>HOURS_BACKEND</th>\n",
       "      <th>HOURS_FRONTEND</th>\n",
       "      <th>NUM_COURSES_BEGINNER_DATASCIENCE</th>\n",
       "      <th>NUM_COURSES_BEGINNER_BACKEND</th>\n",
       "      <th>NUM_COURSES_BEGINNER_FRONTEND</th>\n",
       "      <th>NUM_COURSES_ADVANCED_DATASCIENCE</th>\n",
       "      <th>NUM_COURSES_ADVANCED_BACKEND</th>\n",
       "      <th>NUM_COURSES_ADVANCED_FRONTEND</th>\n",
       "      <th>AVG_SCORE_DATASCIENCE</th>\n",
       "      <th>AVG_SCORE_BACKEND</th>\n",
       "      <th>AVG_SCORE_FRONTEND</th>\n",
       "    </tr>\n",
       "  </thead>\n",
       "  <tbody>\n",
       "    <tr>\n",
       "      <th>count</th>\n",
       "      <td>20000.000000</td>\n",
       "      <td>2.000000e+04</td>\n",
       "      <td>19986.000000</td>\n",
       "      <td>19947.000000</td>\n",
       "      <td>19984.000000</td>\n",
       "      <td>19974.000000</td>\n",
       "      <td>19982.000000</td>\n",
       "      <td>19961.000000</td>\n",
       "      <td>19998.000000</td>\n",
       "      <td>19992.000000</td>\n",
       "      <td>19963.00000</td>\n",
       "      <td>19780.000000</td>\n",
       "      <td>19916.000000</td>\n",
       "      <td>19832.000000</td>\n",
       "    </tr>\n",
       "    <tr>\n",
       "      <th>mean</th>\n",
       "      <td>10499.334050</td>\n",
       "      <td>5.013036e+07</td>\n",
       "      <td>37.565296</td>\n",
       "      <td>43.552263</td>\n",
       "      <td>36.936599</td>\n",
       "      <td>3.698608</td>\n",
       "      <td>3.715144</td>\n",
       "      <td>4.048294</td>\n",
       "      <td>3.397140</td>\n",
       "      <td>4.344338</td>\n",
       "      <td>3.36783</td>\n",
       "      <td>65.070324</td>\n",
       "      <td>67.234535</td>\n",
       "      <td>67.130748</td>\n",
       "    </tr>\n",
       "    <tr>\n",
       "      <th>std</th>\n",
       "      <td>5773.939433</td>\n",
       "      <td>2.880690e+07</td>\n",
       "      <td>22.394805</td>\n",
       "      <td>22.387518</td>\n",
       "      <td>20.590381</td>\n",
       "      <td>2.001647</td>\n",
       "      <td>2.101863</td>\n",
       "      <td>2.296000</td>\n",
       "      <td>2.111437</td>\n",
       "      <td>2.161569</td>\n",
       "      <td>1.98784</td>\n",
       "      <td>13.950559</td>\n",
       "      <td>14.214591</td>\n",
       "      <td>14.446830</td>\n",
       "    </tr>\n",
       "    <tr>\n",
       "      <th>min</th>\n",
       "      <td>28.000000</td>\n",
       "      <td>1.172000e+03</td>\n",
       "      <td>0.000000</td>\n",
       "      <td>0.000000</td>\n",
       "      <td>0.000000</td>\n",
       "      <td>0.000000</td>\n",
       "      <td>0.000000</td>\n",
       "      <td>0.000000</td>\n",
       "      <td>0.000000</td>\n",
       "      <td>0.000000</td>\n",
       "      <td>0.00000</td>\n",
       "      <td>7.000000</td>\n",
       "      <td>10.000000</td>\n",
       "      <td>0.000000</td>\n",
       "    </tr>\n",
       "    <tr>\n",
       "      <th>25%</th>\n",
       "      <td>5499.750000</td>\n",
       "      <td>2.534718e+07</td>\n",
       "      <td>21.000000</td>\n",
       "      <td>28.000000</td>\n",
       "      <td>22.000000</td>\n",
       "      <td>2.000000</td>\n",
       "      <td>2.000000</td>\n",
       "      <td>2.000000</td>\n",
       "      <td>2.000000</td>\n",
       "      <td>3.000000</td>\n",
       "      <td>2.00000</td>\n",
       "      <td>56.000000</td>\n",
       "      <td>58.000000</td>\n",
       "      <td>58.000000</td>\n",
       "    </tr>\n",
       "    <tr>\n",
       "      <th>50%</th>\n",
       "      <td>10499.500000</td>\n",
       "      <td>5.012472e+07</td>\n",
       "      <td>37.000000</td>\n",
       "      <td>43.000000</td>\n",
       "      <td>37.000000</td>\n",
       "      <td>4.000000</td>\n",
       "      <td>4.000000</td>\n",
       "      <td>4.000000</td>\n",
       "      <td>3.000000</td>\n",
       "      <td>4.000000</td>\n",
       "      <td>3.00000</td>\n",
       "      <td>65.000000</td>\n",
       "      <td>68.000000</td>\n",
       "      <td>68.000000</td>\n",
       "    </tr>\n",
       "    <tr>\n",
       "      <th>75%</th>\n",
       "      <td>15499.250000</td>\n",
       "      <td>7.513944e+07</td>\n",
       "      <td>53.000000</td>\n",
       "      <td>59.000000</td>\n",
       "      <td>51.000000</td>\n",
       "      <td>5.000000</td>\n",
       "      <td>5.000000</td>\n",
       "      <td>6.000000</td>\n",
       "      <td>5.000000</td>\n",
       "      <td>6.000000</td>\n",
       "      <td>5.00000</td>\n",
       "      <td>75.000000</td>\n",
       "      <td>77.000000</td>\n",
       "      <td>77.000000</td>\n",
       "    </tr>\n",
       "    <tr>\n",
       "      <th>max</th>\n",
       "      <td>20499.000000</td>\n",
       "      <td>9.999234e+07</td>\n",
       "      <td>127.000000</td>\n",
       "      <td>147.000000</td>\n",
       "      <td>124.000000</td>\n",
       "      <td>12.000000</td>\n",
       "      <td>12.000000</td>\n",
       "      <td>13.000000</td>\n",
       "      <td>13.000000</td>\n",
       "      <td>14.000000</td>\n",
       "      <td>12.00000</td>\n",
       "      <td>100.000000</td>\n",
       "      <td>100.000000</td>\n",
       "      <td>100.000000</td>\n",
       "    </tr>\n",
       "  </tbody>\n",
       "</table>\n",
       "</div>"
      ],
      "text/plain": [
       "         Unnamed: 0       USER_ID  HOURS_DATASCIENCE  HOURS_BACKEND  \\\n",
       "count  20000.000000  2.000000e+04       19986.000000   19947.000000   \n",
       "mean   10499.334050  5.013036e+07          37.565296      43.552263   \n",
       "std     5773.939433  2.880690e+07          22.394805      22.387518   \n",
       "min       28.000000  1.172000e+03           0.000000       0.000000   \n",
       "25%     5499.750000  2.534718e+07          21.000000      28.000000   \n",
       "50%    10499.500000  5.012472e+07          37.000000      43.000000   \n",
       "75%    15499.250000  7.513944e+07          53.000000      59.000000   \n",
       "max    20499.000000  9.999234e+07         127.000000     147.000000   \n",
       "\n",
       "       HOURS_FRONTEND  NUM_COURSES_BEGINNER_DATASCIENCE  \\\n",
       "count    19984.000000                      19974.000000   \n",
       "mean        36.936599                          3.698608   \n",
       "std         20.590381                          2.001647   \n",
       "min          0.000000                          0.000000   \n",
       "25%         22.000000                          2.000000   \n",
       "50%         37.000000                          4.000000   \n",
       "75%         51.000000                          5.000000   \n",
       "max        124.000000                         12.000000   \n",
       "\n",
       "       NUM_COURSES_BEGINNER_BACKEND  NUM_COURSES_BEGINNER_FRONTEND  \\\n",
       "count                  19982.000000                   19961.000000   \n",
       "mean                       3.715144                       4.048294   \n",
       "std                        2.101863                       2.296000   \n",
       "min                        0.000000                       0.000000   \n",
       "25%                        2.000000                       2.000000   \n",
       "50%                        4.000000                       4.000000   \n",
       "75%                        5.000000                       6.000000   \n",
       "max                       12.000000                      13.000000   \n",
       "\n",
       "       NUM_COURSES_ADVANCED_DATASCIENCE  NUM_COURSES_ADVANCED_BACKEND  \\\n",
       "count                      19998.000000                  19992.000000   \n",
       "mean                           3.397140                      4.344338   \n",
       "std                            2.111437                      2.161569   \n",
       "min                            0.000000                      0.000000   \n",
       "25%                            2.000000                      3.000000   \n",
       "50%                            3.000000                      4.000000   \n",
       "75%                            5.000000                      6.000000   \n",
       "max                           13.000000                     14.000000   \n",
       "\n",
       "       NUM_COURSES_ADVANCED_FRONTEND  AVG_SCORE_DATASCIENCE  \\\n",
       "count                    19963.00000           19780.000000   \n",
       "mean                         3.36783              65.070324   \n",
       "std                          1.98784              13.950559   \n",
       "min                          0.00000               7.000000   \n",
       "25%                          2.00000              56.000000   \n",
       "50%                          3.00000              65.000000   \n",
       "75%                          5.00000              75.000000   \n",
       "max                         12.00000             100.000000   \n",
       "\n",
       "       AVG_SCORE_BACKEND  AVG_SCORE_FRONTEND  \n",
       "count       19916.000000        19832.000000  \n",
       "mean           67.234535           67.130748  \n",
       "std            14.214591           14.446830  \n",
       "min            10.000000            0.000000  \n",
       "25%            58.000000           58.000000  \n",
       "50%            68.000000           68.000000  \n",
       "75%            77.000000           77.000000  \n",
       "max           100.000000          100.000000  "
      ]
     },
     "execution_count": 42,
     "metadata": {},
     "output_type": "execute_result"
    }
   ],
   "source": [
    "df_data_1.describe()"
   ]
  },
  {
   "cell_type": "markdown",
   "metadata": {},
   "source": [
    "Tenemos 16 columnas presentes en el set de datos proporcionado, 15 de las cuales son variables features (datos de entrada) y una de ellas es una variable target (que queremos que nuestro modelo va a predecir).\n",
    "\n",
    "Las variables features son:\n",
    "\n",
    "    Unnamed: 0                          - Esta columna no tiene nombre y debe ser eliminada del dataset\n",
    "    NAME                                - Nombre del estudiante\n",
    "    USER_ID                             - Número de identificación del estudiante\n",
    "    HOURS_DATASCIENCE                   - Número de horas de estudio en Data Science\n",
    "    HOURS_BACKEND                       - Número de horas de estudio en Web (Back-End)\n",
    "    HOURS_FRONTEND                      - Número de horas de estudio en Web (Front-End)\n",
    "    NUM_COURSES_BEGINNER_DATASCIENCE    - Número de cursos de nivel principiante en Data Science completados por el estudiante\n",
    "    NUM_COURSES_BEGINNER_BACKEND        - Número de cursos de nivel principiante en Web (Back-End) completados por el estudiante\n",
    "    NUM_COURSES_BEGINNER_FRONTEND       - Número de cursos de nivel principiante en Web (Front-End) completados por el estudiante\n",
    "    NUM_COURSES_ADVANCED_DATASCIENCE    - Número de cursos de nivel avanzado en Data Science completados por el estudiante\n",
    "    NUM_COURSES_ADVANCED_BACKEND        - Número de cursos de nivel avanzado en Web (Back-End) completados por el estudiante\n",
    "    NUM_COURSES_ADVANCED_FRONTEND       - Número de cursos de nivel avanzado en Web (Front-End) completados por el estudiante\n",
    "    AVG_SCORE_DATASCIENCE               - Promedio acumulado en cursos de Data Science completados por el estudiante\n",
    "    AVG_SCORE_BACKEND                   - Promedio acumulado en cursos de Web (Back-End) completados por el estudiante\n",
    "    AVG_SCORE_FRONTEND                  - Promedio acumulado en cursos de Web (Front-End) completados por el estudiante\n",
    "    \n",
    "La variable target es:\n",
    "\n",
    "    PROFILE                             - Perfil de carrera del estudiante (puede ser uno de 6)\n",
    "    \n",
    "        - beginner_front_end\n",
    "        - advanced_front_end\n",
    "        - beginner_back_end\n",
    "        - advanced_back_end\n",
    "        - beginner_data_science\n",
    "        - advanced_data_science\n",
    "        \n",
    "Con un modelo capaz de clasificar a un alumno en una de estas categorías, podemos recomendar contenidos a los alumnos de forma personalizada según las necesidades de cada alumno."
   ]
  },
  {
   "cell_type": "markdown",
   "metadata": {},
   "source": [
    "### Explorando los datos proporcionados\n",
    "\n",
    "Podemos continuar la exploración de los datos proporcionados con la función ``info()``:"
   ]
  },
  {
   "cell_type": "code",
   "execution_count": 43,
   "metadata": {},
   "outputs": [
    {
     "name": "stdout",
     "output_type": "stream",
     "text": [
      "<class 'pandas.core.frame.DataFrame'>\n",
      "RangeIndex: 20000 entries, 0 to 19999\n",
      "Data columns (total 16 columns):\n",
      "Unnamed: 0                          20000 non-null int64\n",
      "NAME                                20000 non-null object\n",
      "USER_ID                             20000 non-null int64\n",
      "HOURS_DATASCIENCE                   19986 non-null float64\n",
      "HOURS_BACKEND                       19947 non-null float64\n",
      "HOURS_FRONTEND                      19984 non-null float64\n",
      "NUM_COURSES_BEGINNER_DATASCIENCE    19974 non-null float64\n",
      "NUM_COURSES_BEGINNER_BACKEND        19982 non-null float64\n",
      "NUM_COURSES_BEGINNER_FRONTEND       19961 non-null float64\n",
      "NUM_COURSES_ADVANCED_DATASCIENCE    19998 non-null float64\n",
      "NUM_COURSES_ADVANCED_BACKEND        19992 non-null float64\n",
      "NUM_COURSES_ADVANCED_FRONTEND       19963 non-null float64\n",
      "AVG_SCORE_DATASCIENCE               19780 non-null float64\n",
      "AVG_SCORE_BACKEND                   19916 non-null float64\n",
      "AVG_SCORE_FRONTEND                  19832 non-null float64\n",
      "PROFILE                             20000 non-null object\n",
      "dtypes: float64(12), int64(2), object(2)\n",
      "memory usage: 2.4+ MB\n"
     ]
    }
   ],
   "source": [
    "df_data_1.info()"
   ]
  },
  {
   "cell_type": "code",
   "execution_count": 44,
   "metadata": {},
   "outputs": [
    {
     "data": {
      "text/plain": [
       "advanced_backend         3339\n",
       "advanced_front_end       3337\n",
       "beginner_front_end       3335\n",
       "beginner_backend         3332\n",
       "advanced_data_science    3330\n",
       "beginner_data_science    3327\n",
       "Name: PROFILE, dtype: int64"
      ]
     },
     "execution_count": 44,
     "metadata": {},
     "output_type": "execute_result"
    }
   ],
   "source": [
    "df_data_1.PROFILE.value_counts()"
   ]
  },
  {
   "cell_type": "code",
   "execution_count": 45,
   "metadata": {},
   "outputs": [
    {
     "data": {
      "text/plain": [
       "(20000,)"
      ]
     },
     "execution_count": 45,
     "metadata": {},
     "output_type": "execute_result"
    }
   ],
   "source": [
    "pd.unique(df_data_1.USER_ID).shape"
   ]
  },
  {
   "cell_type": "markdown",
   "metadata": {},
   "source": [
    "### Visualización (visualizations)\n",
    "\n",
    "Para ver el conjunto de datos suministrado, podemos usar las bibliotecas ``matplotlib`` y ``seaborn``:"
   ]
  },
  {
   "cell_type": "code",
   "execution_count": 46,
   "metadata": {},
   "outputs": [],
   "source": [
    "import matplotlib.pyplot as plt\n",
    "import seaborn as sns\n",
    "%matplotlib inline"
   ]
  },
  {
   "cell_type": "code",
   "execution_count": 47,
   "metadata": {},
   "outputs": [
    {
     "data": {
      "text/plain": [
       "<matplotlib.axes._subplots.AxesSubplot at 0x7f2a10085a58>"
      ]
     },
     "execution_count": 47,
     "metadata": {},
     "output_type": "execute_result"
    },
    {
     "data": {
      "image/png": "[encoded data removed]",
      "text/plain": [
       "<Figure size 2016x288 with 3 Axes>"
      ]
     },
     "metadata": {
      "needs_background": "light"
     },
     "output_type": "display_data"
    }
   ],
   "source": [
    "fig, axes = plt.subplots(nrows=1, ncols=3, figsize=(28, 4))\n",
    "\n",
    "sns.distplot(df_data_1['HOURS_DATASCIENCE'].dropna(), ax=axes[0])\n",
    "sns.distplot(df_data_1['HOURS_BACKEND'].dropna(), ax=axes[1])\n",
    "sns.distplot(df_data_1['HOURS_FRONTEND'].dropna(), ax=axes[2])"
   ]
  },
  {
   "cell_type": "code",
   "execution_count": 48,
   "metadata": {},
   "outputs": [
    {
     "data": {
      "text/plain": [
       "<matplotlib.axes._subplots.AxesSubplot at 0x7f29f0037e80>"
      ]
     },
     "execution_count": 48,
     "metadata": {},
     "output_type": "execute_result"
    },
    {
     "data": {
      "image/png": "[encoded data removed]",
      "text/plain": [
       "<Figure size 2016x288 with 6 Axes>"
      ]
     },
     "metadata": {
      "needs_background": "light"
     },
     "output_type": "display_data"
    }
   ],
   "source": [
    "fig, axes = plt.subplots(nrows=2, ncols=3, figsize=(28, 4))\n",
    "\n",
    "sns.distplot(df_data_1['NUM_COURSES_BEGINNER_DATASCIENCE'].dropna(), ax=axes[0][0])\n",
    "sns.distplot(df_data_1['NUM_COURSES_BEGINNER_BACKEND'].dropna(), ax=axes[0][1])\n",
    "sns.distplot(df_data_1['NUM_COURSES_BEGINNER_FRONTEND'].dropna(), ax=axes[0][2])\n",
    "sns.distplot(df_data_1['NUM_COURSES_ADVANCED_DATASCIENCE'].dropna(), ax=axes[1][0])\n",
    "sns.distplot(df_data_1['NUM_COURSES_ADVANCED_BACKEND'].dropna(), ax=axes[1][1])\n",
    "sns.distplot(df_data_1['NUM_COURSES_ADVANCED_FRONTEND'].dropna(), ax=axes[1][2])"
   ]
  },
  {
   "cell_type": "code",
   "execution_count": 49,
   "metadata": {},
   "outputs": [
    {
     "data": {
      "text/plain": [
       "<matplotlib.axes._subplots.AxesSubplot at 0x7f28b8374eb8>"
      ]
     },
     "execution_count": 49,
     "metadata": {},
     "output_type": "execute_result"
    },
    {
     "data": {
      "image/png": "[encoded data removed]",
      "text/plain": [
       "<Figure size 2016x288 with 3 Axes>"
      ]
     },
     "metadata": {
      "needs_background": "light"
     },
     "output_type": "display_data"
    }
   ],
   "source": [
    "fig, axes = plt.subplots(nrows=1, ncols=3, figsize=(28, 4))\n",
    "\n",
    "sns.distplot(df_data_1['AVG_SCORE_DATASCIENCE'].dropna(), ax=axes[0])\n",
    "sns.distplot(df_data_1['AVG_SCORE_BACKEND'].dropna(), ax=axes[1])\n",
    "sns.distplot(df_data_1['AVG_SCORE_FRONTEND'].dropna(), ax=axes[2])"
   ]
  },
  {
   "cell_type": "code",
   "execution_count": 50,
   "metadata": {},
   "outputs": [
    {
     "data": {
      "text/plain": [
       "Unnamed: 0                            0\n",
       "NAME                                  0\n",
       "USER_ID                               0\n",
       "HOURS_DATASCIENCE                    14\n",
       "HOURS_BACKEND                        53\n",
       "HOURS_FRONTEND                       16\n",
       "NUM_COURSES_BEGINNER_DATASCIENCE     26\n",
       "NUM_COURSES_BEGINNER_BACKEND         18\n",
       "NUM_COURSES_BEGINNER_FRONTEND        39\n",
       "NUM_COURSES_ADVANCED_DATASCIENCE      2\n",
       "NUM_COURSES_ADVANCED_BACKEND          8\n",
       "NUM_COURSES_ADVANCED_FRONTEND        37\n",
       "AVG_SCORE_DATASCIENCE               220\n",
       "AVG_SCORE_BACKEND                    84\n",
       "AVG_SCORE_FRONTEND                  168\n",
       "PROFILE                               0\n",
       "dtype: int64"
      ]
     },
     "execution_count": 50,
     "metadata": {},
     "output_type": "execute_result"
    }
   ],
   "source": [
    "df_data_1.isna().sum()"
   ]
  },
  {
   "cell_type": "code",
   "execution_count": 51,
   "metadata": {},
   "outputs": [
    {
     "data": {
      "text/plain": [
       "<matplotlib.axes._subplots.AxesSubplot at 0x7f28b81a70b8>"
      ]
     },
     "execution_count": 51,
     "metadata": {},
     "output_type": "execute_result"
    },
    {
     "data": {
      "image/png": "[encoded data removed]",
      "text/plain": [
       "<Figure size 2016x288 with 2 Axes>"
      ]
     },
     "metadata": {
      "needs_background": "light"
     },
     "output_type": "display_data"
    }
   ],
   "source": [
    "fig, axes = plt.subplots(nrows=1, ncols=2, figsize=(28, 4))\n",
    "\n",
    "sns.countplot(ax=axes[0], x='PROFILE', data=df_data_1)"
   ]
  },
  {
   "cell_type": "markdown",
   "metadata": {},
   "source": [
    "### Preprocesamiento de datos"
   ]
  },
  {
   "cell_type": "markdown",
   "metadata": {},
   "source": [
    "Para el preprocesamiento de los datos, se presentarán en este notebook dos transformaciones básicas, demostrando la construcción de un Pipeline con un modelo funcional. Este Pipeline funcional provisto debe ser mejorado por el participante para que el modelo final alcance la mayor precisión posible, garantizando una mayor puntuación en el desafío. Esta mejora solo se puede realizar en el preprocesamiento de los datos, en la elección de un algoritmo para el entrenamiento de diferentes modelos, o incluso en la alteración del **framework** utilizado (sin embargo, solo se entregará un ejemplo de integración de Watson Machine Learning con *scikit-learn*).\n",
    "\n",
    "La primera transformación (paso en nuestro Pipeline) será la exclusión de la columna \"NOMBRE\" de nuestro conjunto de datos, que además de no ser una variable numérica, tampoco es una variable relacionada con el desempeño de los estudiantes en las disciplinas. Hay funciones listas para usar en *scikit-learn* para realizar esta transformación, sin embargo, nuestro ejemplo demostrará cómo crear una transformación personalizada desde cero en scikit-learn. Si lo desea, el participante puede usar este ejemplo para crear otras transformaciones y agregarlas al Pipeline final :)"
   ]
  },
  {
   "cell_type": "markdown",
   "metadata": {},
   "source": [
    "#### Transformación 1: excluir columnas del conjunto de datos\n",
    "\n",
    "Para la creación de una transformación de datos personalizada en scikit-learn, es necesario crear una clase con los métodos ``transform`` y ``fit``. En el método de 'transform', se ejecutará la lógica de nuestra transformación.\n",
    "\n",
    "La siguiente celda muestra el código completo de una transformación ``DropColumns`` para eliminar columnas de un pandas DataFrame."
   ]
  },
  {
   "cell_type": "code",
   "execution_count": 2,
   "metadata": {},
   "outputs": [],
   "source": [
    "from sklearn.base import BaseEstimator, TransformerMixin\n",
    "\n",
    "\n",
    "# All sklearn Transforms must have the `transform` and `fit` methods\n",
    "class DropColumns(BaseEstimator, TransformerMixin):\n",
    "    def __init__(self, columns):\n",
    "        self.columns = columns\n",
    "\n",
    "    def fit(self, X, y=None):\n",
    "        return self\n",
    "    \n",
    "    def transform(self, X):\n",
    "        # Primero copiamos el dataframe de datos de entrada 'X'\n",
    "        data = X.copy()\n",
    "        # Devolvemos un nuevo dataframe de datos sin las columnas no deseadas\n",
    "        return data.drop(labels=self.columns, axis='columns')\n",
    "    \n"
   ]
  },
  {
   "cell_type": "code",
   "execution_count": 3,
   "metadata": {},
   "outputs": [],
   "source": [
    "class NewColumns(BaseEstimator, TransformerMixin):\n",
    "    def __init__(self,columns=None):\n",
    "        self.columns = columns\n",
    "    def fit(self, X, y=None):\n",
    "        return self\n",
    "    \n",
    "    def transform(self, X):\n",
    "        # Primero copiamos el dataframe de datos de entrada 'X'\n",
    "        data = X.copy()\n",
    "        data['FLAG_B_DS']=(data.AVG_SCORE_DATASCIENCE*data.NUM_COURSES_BEGINNER_DATASCIENCE)\n",
    "        data['FLAG_B_FE']=(data.AVG_SCORE_FRONTEND*data.NUM_COURSES_BEGINNER_FRONTEND)\n",
    "        data['FLAG_B_BE']=(data.AVG_SCORE_BACKEND*data.NUM_COURSES_BEGINNER_BACKEND)\n",
    "        data['FLAG_A_DS']=(data.AVG_SCORE_DATASCIENCE*data.NUM_COURSES_ADVANCED_DATASCIENCE)\n",
    "        data['FLAG_A_FE']=(data.AVG_SCORE_FRONTEND*data.NUM_COURSES_ADVANCED_FRONTEND)\n",
    "        data['FLAG_A_BE']=(data.AVG_SCORE_BACKEND*data.NUM_COURSES_ADVANCED_BACKEND)\n",
    "        data['FLAG_A_DS_COMP']=(data.AVG_SCORE_DATASCIENCE*(data.NUM_COURSES_ADVANCED_DATASCIENCE\n",
    "                                                                 +data.NUM_COURSES_BEGINNER_DATASCIENCE)*data.HOURS_DATASCIENCE)\n",
    "        data['FLAG_A_FE_COMP']=(data.AVG_SCORE_FRONTEND*(data.NUM_COURSES_ADVANCED_FRONTEND\n",
    "                                                              +data.NUM_COURSES_BEGINNER_FRONTEND)*data.HOURS_FRONTEND)\n",
    "        data['FLAG_A_BE_COMP']=(data.AVG_SCORE_BACKEND*(data.NUM_COURSES_ADVANCED_BACKEND\n",
    "                                                             +data.NUM_COURSES_BEGINNER_BACKEND)*data.HOURS_BACKEND)\n",
    "        suma_ds=(data.NUM_COURSES_BEGINNER_DATASCIENCE+data.NUM_COURSES_ADVANCED_DATASCIENCE)\n",
    "        suma_be=(data.NUM_COURSES_BEGINNER_BACKEND+data.NUM_COURSES_ADVANCED_BACKEND)\n",
    "        suma_fe=(data.NUM_COURSES_BEGINNER_FRONTEND+data.NUM_COURSES_ADVANCED_FRONTEND)\n",
    "        data['HORAS P CURSO DS']=(data.HOURS_DATASCIENCE)/suma_ds\n",
    "        data['HORAS P CURSO BE']=(data.HOURS_BACKEND)/suma_be\n",
    "        data['HORAS P CURSO FE']=(data.HOURS_FRONTEND)/suma_fe\n",
    "        data['HORAS P CURSO']=(data.HOURS_DATASCIENCE+data.HOURS_BACKEND+data.HOURS_FRONTEND)/(suma_ds+suma_be+suma_fe)\n",
    "        data=data.replace([np.inf, -np.inf,np.nan],0)\n",
    "        data['VAR_AVG']=data.iloc[:,9:12].std(axis=1)\n",
    "        data['VAR_COURSES']=data.iloc[:,3:9].std(axis=1)\n",
    "        data['VAR_HOURS']=data.iloc[:,0:3].std(axis=1)\n",
    "        data['MEAN_AVG']=data.iloc[:,9:12].mean(axis=1)\n",
    "        data['MEAN_COURSES']=data.iloc[:,3:9].mean(axis=1)\n",
    "        data['MEAN_HOURS']=data.iloc[:,0:3].mean(axis=1)\n",
    "        # Devolvemos un nuevo dataframe de datos sin las columnas no deseadas\n",
    "        return data"
   ]
  },
  {
   "cell_type": "markdown",
   "metadata": {},
   "source": [
    "Para aplicar esa transformación en un pandas DataFrame pandas, basta instanciar un objeto *DropColumns* y llamar el método transform()."
   ]
  },
  {
   "cell_type": "code",
   "execution_count": 65,
   "metadata": {},
   "outputs": [
    {
     "name": "stdout",
     "output_type": "stream",
     "text": [
      "DropColumns(columns=['NAME', 'Unnamed: 0', 'USER_ID'])\n"
     ]
    }
   ],
   "source": [
    "# Creación de instancias de una transformación DropColumns\n",
    "rm_columns = DropColumns(\n",
    "    columns=[\"NAME\", \"Unnamed: 0\",\"USER_ID\"]  # Esta transformación toma como parámetro una lista con los nombres de las columnas no deseadas\n",
    ")\n",
    "nw_columns=NewColumns()\n",
    "print(rm_columns)"
   ]
  },
  {
   "cell_type": "code",
   "execution_count": 66,
   "metadata": {},
   "outputs": [
    {
     "name": "stdout",
     "output_type": "stream",
     "text": [
      "Columnas del conjunto de datos original: \n",
      "\n",
      "Index(['Unnamed: 0', 'NAME', 'USER_ID', 'HOURS_DATASCIENCE', 'HOURS_BACKEND',\n",
      "       'HOURS_FRONTEND', 'NUM_COURSES_BEGINNER_DATASCIENCE',\n",
      "       'NUM_COURSES_BEGINNER_BACKEND', 'NUM_COURSES_BEGINNER_FRONTEND',\n",
      "       'NUM_COURSES_ADVANCED_DATASCIENCE', 'NUM_COURSES_ADVANCED_BACKEND',\n",
      "       'NUM_COURSES_ADVANCED_FRONTEND', 'AVG_SCORE_DATASCIENCE',\n",
      "       'AVG_SCORE_BACKEND', 'AVG_SCORE_FRONTEND', 'PROFILE'],\n",
      "      dtype='object')\n"
     ]
    }
   ],
   "source": [
    "# Ver las columnas del conjunto de datos original\n",
    "print(\"Columnas del conjunto de datos original: \\n\")\n",
    "print(df_data_1.columns)"
   ]
  },
  {
   "cell_type": "code",
   "execution_count": 67,
   "metadata": {},
   "outputs": [],
   "source": [
    "# Aplicar la transformación ``DropColumns`` al conjunto de datos base\n",
    "rm_columns.fit(X=df_data_1)\n",
    "\n",
    "# Reconstruyendo un DataFrame de Pandas con el resultado de la transformación\n",
    "df_data_2 = pd.DataFrame.from_records(\n",
    "    data=rm_columns.transform(\n",
    "        X=df_data_1\n",
    "    ),\n",
    ")"
   ]
  },
  {
   "cell_type": "code",
   "execution_count": 68,
   "metadata": {},
   "outputs": [
    {
     "name": "stdout",
     "output_type": "stream",
     "text": [
      "Columnas del conjunto de datos después de la transformación ``DropColumns``: \n",
      "\n",
      "Index(['HOURS_DATASCIENCE', 'HOURS_BACKEND', 'HOURS_FRONTEND',\n",
      "       'NUM_COURSES_BEGINNER_DATASCIENCE', 'NUM_COURSES_BEGINNER_BACKEND',\n",
      "       'NUM_COURSES_BEGINNER_FRONTEND', 'NUM_COURSES_ADVANCED_DATASCIENCE',\n",
      "       'NUM_COURSES_ADVANCED_BACKEND', 'NUM_COURSES_ADVANCED_FRONTEND',\n",
      "       'AVG_SCORE_DATASCIENCE', 'AVG_SCORE_BACKEND', 'AVG_SCORE_FRONTEND',\n",
      "       'PROFILE'],\n",
      "      dtype='object')\n"
     ]
    }
   ],
   "source": [
    "# Ver las columnas del conjunto de datos transformado\n",
    "print(\"Columnas del conjunto de datos después de la transformación ``DropColumns``: \\n\")\n",
    "print(df_data_2.columns)"
   ]
  },
  {
   "cell_type": "code",
   "execution_count": 69,
   "metadata": {},
   "outputs": [],
   "source": [
    "nw_columns.fit(X=df_data_2)\n",
    "data=nw_columns.transform(X=df_data_2)"
   ]
  },
  {
   "cell_type": "code",
   "execution_count": 70,
   "metadata": {},
   "outputs": [
    {
     "data": {
      "text/html": [
       "<div>\n",
       "<style scoped>\n",
       "    .dataframe tbody tr th:only-of-type {\n",
       "        vertical-align: middle;\n",
       "    }\n",
       "\n",
       "    .dataframe tbody tr th {\n",
       "        vertical-align: top;\n",
       "    }\n",
       "\n",
       "    .dataframe thead th {\n",
       "        text-align: right;\n",
       "    }\n",
       "</style>\n",
       "<table border=\"1\" class=\"dataframe\">\n",
       "  <thead>\n",
       "    <tr style=\"text-align: right;\">\n",
       "      <th></th>\n",
       "      <th>HOURS_DATASCIENCE</th>\n",
       "      <th>HOURS_BACKEND</th>\n",
       "      <th>HOURS_FRONTEND</th>\n",
       "      <th>NUM_COURSES_BEGINNER_DATASCIENCE</th>\n",
       "      <th>NUM_COURSES_BEGINNER_BACKEND</th>\n",
       "      <th>NUM_COURSES_BEGINNER_FRONTEND</th>\n",
       "      <th>NUM_COURSES_ADVANCED_DATASCIENCE</th>\n",
       "      <th>NUM_COURSES_ADVANCED_BACKEND</th>\n",
       "      <th>NUM_COURSES_ADVANCED_FRONTEND</th>\n",
       "      <th>AVG_SCORE_DATASCIENCE</th>\n",
       "      <th>...</th>\n",
       "      <th>FLAG_A_DS</th>\n",
       "      <th>FLAG_A_FE</th>\n",
       "      <th>FLAG_A_BE</th>\n",
       "      <th>FLAG_A_DS_COMP</th>\n",
       "      <th>FLAG_A_FE_COMP</th>\n",
       "      <th>FLAG_A_BE_COMP</th>\n",
       "      <th>HORAS P CURSO DS</th>\n",
       "      <th>HORAS P CURSO BE</th>\n",
       "      <th>HORAS P CURSO FE</th>\n",
       "      <th>HORAS P CURSO</th>\n",
       "    </tr>\n",
       "  </thead>\n",
       "  <tbody>\n",
       "    <tr>\n",
       "      <th>0</th>\n",
       "      <td>7.0</td>\n",
       "      <td>39.0</td>\n",
       "      <td>29.0</td>\n",
       "      <td>2.0</td>\n",
       "      <td>4.0</td>\n",
       "      <td>0.0</td>\n",
       "      <td>2.0</td>\n",
       "      <td>5.0</td>\n",
       "      <td>0.0</td>\n",
       "      <td>84.0</td>\n",
       "      <td>...</td>\n",
       "      <td>168.0</td>\n",
       "      <td>0.0</td>\n",
       "      <td>370.0</td>\n",
       "      <td>2352.0</td>\n",
       "      <td>0.0</td>\n",
       "      <td>25974.0</td>\n",
       "      <td>1.75</td>\n",
       "      <td>4.333333</td>\n",
       "      <td>0.0</td>\n",
       "      <td>5.769231</td>\n",
       "    </tr>\n",
       "    <tr>\n",
       "      <th>1</th>\n",
       "      <td>32.0</td>\n",
       "      <td>0.0</td>\n",
       "      <td>44.0</td>\n",
       "      <td>2.0</td>\n",
       "      <td>0.0</td>\n",
       "      <td>0.0</td>\n",
       "      <td>0.0</td>\n",
       "      <td>5.0</td>\n",
       "      <td>0.0</td>\n",
       "      <td>67.0</td>\n",
       "      <td>...</td>\n",
       "      <td>0.0</td>\n",
       "      <td>0.0</td>\n",
       "      <td>225.0</td>\n",
       "      <td>4288.0</td>\n",
       "      <td>0.0</td>\n",
       "      <td>0.0</td>\n",
       "      <td>16.00</td>\n",
       "      <td>0.000000</td>\n",
       "      <td>0.0</td>\n",
       "      <td>10.857143</td>\n",
       "    </tr>\n",
       "    <tr>\n",
       "      <th>2</th>\n",
       "      <td>45.0</td>\n",
       "      <td>0.0</td>\n",
       "      <td>59.0</td>\n",
       "      <td>0.0</td>\n",
       "      <td>5.0</td>\n",
       "      <td>4.0</td>\n",
       "      <td>0.0</td>\n",
       "      <td>4.0</td>\n",
       "      <td>1.0</td>\n",
       "      <td>0.0</td>\n",
       "      <td>...</td>\n",
       "      <td>0.0</td>\n",
       "      <td>47.0</td>\n",
       "      <td>216.0</td>\n",
       "      <td>0.0</td>\n",
       "      <td>13865.0</td>\n",
       "      <td>0.0</td>\n",
       "      <td>0.00</td>\n",
       "      <td>0.000000</td>\n",
       "      <td>11.8</td>\n",
       "      <td>7.428571</td>\n",
       "    </tr>\n",
       "    <tr>\n",
       "      <th>3</th>\n",
       "      <td>36.0</td>\n",
       "      <td>19.0</td>\n",
       "      <td>28.0</td>\n",
       "      <td>0.0</td>\n",
       "      <td>5.0</td>\n",
       "      <td>7.0</td>\n",
       "      <td>0.0</td>\n",
       "      <td>5.0</td>\n",
       "      <td>3.0</td>\n",
       "      <td>0.0</td>\n",
       "      <td>...</td>\n",
       "      <td>0.0</td>\n",
       "      <td>267.0</td>\n",
       "      <td>355.0</td>\n",
       "      <td>0.0</td>\n",
       "      <td>24920.0</td>\n",
       "      <td>13490.0</td>\n",
       "      <td>0.00</td>\n",
       "      <td>1.900000</td>\n",
       "      <td>2.8</td>\n",
       "      <td>4.150000</td>\n",
       "    </tr>\n",
       "    <tr>\n",
       "      <th>4</th>\n",
       "      <td>61.0</td>\n",
       "      <td>78.0</td>\n",
       "      <td>38.0</td>\n",
       "      <td>6.0</td>\n",
       "      <td>11.0</td>\n",
       "      <td>0.0</td>\n",
       "      <td>4.0</td>\n",
       "      <td>3.0</td>\n",
       "      <td>0.0</td>\n",
       "      <td>66.0</td>\n",
       "      <td>...</td>\n",
       "      <td>264.0</td>\n",
       "      <td>0.0</td>\n",
       "      <td>255.0</td>\n",
       "      <td>40260.0</td>\n",
       "      <td>0.0</td>\n",
       "      <td>92820.0</td>\n",
       "      <td>6.10</td>\n",
       "      <td>5.571429</td>\n",
       "      <td>0.0</td>\n",
       "      <td>7.375000</td>\n",
       "    </tr>\n",
       "  </tbody>\n",
       "</table>\n",
       "<p>5 rows × 26 columns</p>\n",
       "</div>"
      ],
      "text/plain": [
       "   HOURS_DATASCIENCE  HOURS_BACKEND  HOURS_FRONTEND  \\\n",
       "0                7.0           39.0            29.0   \n",
       "1               32.0            0.0            44.0   \n",
       "2               45.0            0.0            59.0   \n",
       "3               36.0           19.0            28.0   \n",
       "4               61.0           78.0            38.0   \n",
       "\n",
       "   NUM_COURSES_BEGINNER_DATASCIENCE  NUM_COURSES_BEGINNER_BACKEND  \\\n",
       "0                               2.0                           4.0   \n",
       "1                               2.0                           0.0   \n",
       "2                               0.0                           5.0   \n",
       "3                               0.0                           5.0   \n",
       "4                               6.0                          11.0   \n",
       "\n",
       "   NUM_COURSES_BEGINNER_FRONTEND  NUM_COURSES_ADVANCED_DATASCIENCE  \\\n",
       "0                            0.0                               2.0   \n",
       "1                            0.0                               0.0   \n",
       "2                            4.0                               0.0   \n",
       "3                            7.0                               0.0   \n",
       "4                            0.0                               4.0   \n",
       "\n",
       "   NUM_COURSES_ADVANCED_BACKEND  NUM_COURSES_ADVANCED_FRONTEND  \\\n",
       "0                           5.0                            0.0   \n",
       "1                           5.0                            0.0   \n",
       "2                           4.0                            1.0   \n",
       "3                           5.0                            3.0   \n",
       "4                           3.0                            0.0   \n",
       "\n",
       "   AVG_SCORE_DATASCIENCE  ...  FLAG_A_DS  FLAG_A_FE FLAG_A_BE  FLAG_A_DS_COMP  \\\n",
       "0                   84.0  ...      168.0        0.0     370.0          2352.0   \n",
       "1                   67.0  ...        0.0        0.0     225.0          4288.0   \n",
       "2                    0.0  ...        0.0       47.0     216.0             0.0   \n",
       "3                    0.0  ...        0.0      267.0     355.0             0.0   \n",
       "4                   66.0  ...      264.0        0.0     255.0         40260.0   \n",
       "\n",
       "   FLAG_A_FE_COMP  FLAG_A_BE_COMP  HORAS P CURSO DS  HORAS P CURSO BE  \\\n",
       "0             0.0         25974.0              1.75          4.333333   \n",
       "1             0.0             0.0             16.00          0.000000   \n",
       "2         13865.0             0.0              0.00          0.000000   \n",
       "3         24920.0         13490.0              0.00          1.900000   \n",
       "4             0.0         92820.0              6.10          5.571429   \n",
       "\n",
       "   HORAS P CURSO FE  HORAS P CURSO  \n",
       "0               0.0       5.769231  \n",
       "1               0.0      10.857143  \n",
       "2              11.8       7.428571  \n",
       "3               2.8       4.150000  \n",
       "4               0.0       7.375000  \n",
       "\n",
       "[5 rows x 26 columns]"
      ]
     },
     "execution_count": 70,
     "metadata": {},
     "output_type": "execute_result"
    }
   ],
   "source": [
    "data.head()"
   ]
  },
  {
   "cell_type": "markdown",
   "metadata": {},
   "source": [
    "Tenga en cuenta que la columna \"NOMBRE\" se ha eliminado y nuestro conjunto de datos ahora solo tiene 14 columnas."
   ]
  },
  {
   "cell_type": "markdown",
   "metadata": {},
   "source": [
    "#### Transformación 2: tratamiento de datos faltantes\n",
    "\n",
    "Para manejar los datos que faltan en nuestro conjunto de datos, ahora usaremos una transformación lista para usar de la biblioteca scikit-learn, llamada **SimpleImputer**.\n",
    "\n",
    "Esta transformación permite varias estrategias para el tratamiento de datos faltantes. La documentación oficial se puede encontrar en: https://scikit-learn.org/stable/modules/generated/sklearn.impute.SimpleImputer.html\n",
    "\n",
    "En este ejemplo, simplemente haremos cero todos los valores faltantes."
   ]
  },
  {
   "cell_type": "code",
   "execution_count": 19,
   "metadata": {},
   "outputs": [],
   "source": [
    "# Crear un objeto ``SimpleImputer``\n",
    "si = SimpleImputer(\n",
    "    missing_values=np.nan,  # los valores que faltan son del tipo ``np.nan`` (Pandas estándar)\n",
    "    strategy='constant',  # la estrategia elegida es cambiar el valor faltante por una constante\n",
    "    fill_value=0,  # la constante que se usará para completar los valores faltantes es un int64 = 0\n",
    "    verbose=0,\n",
    "    copy=True\n",
    ")"
   ]
  },
  {
   "cell_type": "code",
   "execution_count": 20,
   "metadata": {},
   "outputs": [
    {
     "name": "stdout",
     "output_type": "stream",
     "text": [
      "Valores nulos antes de la transformación SimpleImputer: \n",
      "\n",
      "HOURS_DATASCIENCE                    14\n",
      "HOURS_BACKEND                        53\n",
      "HOURS_FRONTEND                       16\n",
      "NUM_COURSES_BEGINNER_DATASCIENCE     26\n",
      "NUM_COURSES_BEGINNER_BACKEND         18\n",
      "NUM_COURSES_BEGINNER_FRONTEND        39\n",
      "NUM_COURSES_ADVANCED_DATASCIENCE      2\n",
      "NUM_COURSES_ADVANCED_BACKEND          8\n",
      "NUM_COURSES_ADVANCED_FRONTEND        37\n",
      "AVG_SCORE_DATASCIENCE               220\n",
      "AVG_SCORE_BACKEND                    84\n",
      "AVG_SCORE_FRONTEND                  168\n",
      "PROFILE                               0\n",
      "dtype: int64\n",
      "\n"
     ]
    }
   ],
   "source": [
    "# Ver los datos faltantes del conjunto de datos antes de la primera transformación (df_data_2)\n",
    "print(\"Valores nulos antes de la transformación SimpleImputer: \\n\\n{}\\n\".format(df_data_2.isnull().sum(axis = 0)))"
   ]
  },
  {
   "cell_type": "code",
   "execution_count": 21,
   "metadata": {},
   "outputs": [],
   "source": [
    "# Aplicamos el SimpleImputer ``si`` al conjunto de datos df_data_2 (resultado de la primera transformación)\n",
    "si.fit(X=df_data_2)\n",
    "\n",
    "# Reconstrucción de un nuevo DataFrame de Pandas con el conjunto imputado (df_data_3)\n",
    "df_data_3 = pd.DataFrame.from_records(\n",
    "    data=si.transform(\n",
    "        X=df_data_2\n",
    "    ),  # el resultado SimpleImputer.transform (<< pandas dataframe >>) es lista lista\n",
    "    columns=df_data_2.columns  # las columnas originales deben conservarse en esta transformación\n",
    ")"
   ]
  },
  {
   "cell_type": "code",
   "execution_count": 349,
   "metadata": {},
   "outputs": [
    {
     "name": "stdout",
     "output_type": "stream",
     "text": [
      "Valores nulos en el conjunto de datos después de la transformación SimpleImputer: \n",
      "\n",
      "HOURS_DATASCIENCE                   0\n",
      "HOURS_BACKEND                       0\n",
      "HOURS_FRONTEND                      0\n",
      "NUM_COURSES_BEGINNER_DATASCIENCE    0\n",
      "NUM_COURSES_BEGINNER_BACKEND        0\n",
      "NUM_COURSES_BEGINNER_FRONTEND       0\n",
      "NUM_COURSES_ADVANCED_DATASCIENCE    0\n",
      "NUM_COURSES_ADVANCED_BACKEND        0\n",
      "NUM_COURSES_ADVANCED_FRONTEND       0\n",
      "AVG_SCORE_DATASCIENCE               0\n",
      "AVG_SCORE_BACKEND                   0\n",
      "AVG_SCORE_FRONTEND                  0\n",
      "PROFILE                             0\n",
      "dtype: int64\n",
      "\n"
     ]
    }
   ],
   "source": [
    "# Ver los datos faltantes del conjunto de datos después de la segunda transformación (SimpleImputer) (df_data_3)\n",
    "print(\"Valores nulos en el conjunto de datos después de la transformación SimpleImputer: \\n\\n{}\\n\".format(df_data_3.isnull().sum(axis = 0)))"
   ]
  },
  {
   "cell_type": "markdown",
   "metadata": {},
   "source": [
    "Tenga en cuenta que ya no tenemos valores perdidos en nuestro conjunto de datos :)\n",
    "\n",
    "Vale la pena señalar que cambiar los valores perdidos por 0 no siempre es la mejor estrategia. Se anima al participante a estudiar e implementar diferentes estrategias para tratar los valores perdidos para mejorar su modelo y mejorar su puntuación final."
   ]
  },
  {
   "cell_type": "markdown",
   "metadata": {},
   "source": [
    "### Entrenando un modelo de clasificación"
   ]
  },
  {
   "cell_type": "markdown",
   "metadata": {},
   "source": [
    "Una vez finalizado el preprocesamiento, ya tenemos el conjunto de datos en el formato necesario para entrenar nuestro modelo:"
   ]
  },
  {
   "cell_type": "markdown",
   "metadata": {},
   "source": [
    "En el ejemplo proporcionado, usaremos todas las columnas, excepto la columna **Profile** como *feautres* (variables de entrada).\n",
    "\n",
    "La variable **Profile** será la variable objetivo del modelo, como se describe en la declaración de desafío."
   ]
  },
  {
   "cell_type": "markdown",
   "metadata": {},
   "source": [
    "#### Definición de features del modelo"
   ]
  },
  {
   "cell_type": "code",
   "execution_count": 30,
   "metadata": {},
   "outputs": [],
   "source": [
    "# Definición de las columnas que seran features (Notese que la columna NOMBRE no esta presente)\n",
    "'''features = [\n",
    "    \"USER_ID\", \"HOURS_DATASCIENCE\", \"HOURS_BACKEND\", \"HOURS_FRONTEND\",\n",
    "    \"NUM_COURSES_BEGINNER_DATASCIENCE\", \"NUM_COURSES_BEGINNER_BACKEND\", \"NUM_COURSES_BEGINNER_FRONTEND\",\n",
    "    \"NUM_COURSES_ADVANCED_DATASCIENCE\", \"NUM_COURSES_ADVANCED_BACKEND\", \"NUM_COURSES_ADVANCED_FRONTEND\",\n",
    "    \"AVG_SCORE_DATASCIENCE\", \"AVG_SCORE_BACKEND\", \"AVG_SCORE_FRONTEND\"\n",
    "]'''\n",
    "features= [i for i in df_data_3.columns if i!='PROFILE']\n",
    "\n",
    "# Definición de variable objetivo\n",
    "target = ['PROFILE']\n",
    "\n",
    "# Preparación de los argumentos para los métodos de la biblioteca ``scikit-learn``\n",
    "X = df_data_3[features]\n",
    "y = df_data_3[target]"
   ]
  },
  {
   "cell_type": "markdown",
   "metadata": {},
   "source": [
    "El conjunto de entrada (X):"
   ]
  },
  {
   "cell_type": "code",
   "execution_count": 33,
   "metadata": {},
   "outputs": [
    {
     "data": {
      "text/html": [
       "<div>\n",
       "<style scoped>\n",
       "    .dataframe tbody tr th:only-of-type {\n",
       "        vertical-align: middle;\n",
       "    }\n",
       "\n",
       "    .dataframe tbody tr th {\n",
       "        vertical-align: top;\n",
       "    }\n",
       "\n",
       "    .dataframe thead th {\n",
       "        text-align: right;\n",
       "    }\n",
       "</style>\n",
       "<table border=\"1\" class=\"dataframe\">\n",
       "  <thead>\n",
       "    <tr style=\"text-align: right;\">\n",
       "      <th></th>\n",
       "      <th>HOURS_DATASCIENCE</th>\n",
       "      <th>HOURS_BACKEND</th>\n",
       "      <th>HOURS_FRONTEND</th>\n",
       "      <th>NUM_COURSES_BEGINNER_DATASCIENCE</th>\n",
       "      <th>NUM_COURSES_BEGINNER_BACKEND</th>\n",
       "      <th>NUM_COURSES_BEGINNER_FRONTEND</th>\n",
       "      <th>NUM_COURSES_ADVANCED_DATASCIENCE</th>\n",
       "      <th>NUM_COURSES_ADVANCED_BACKEND</th>\n",
       "      <th>NUM_COURSES_ADVANCED_FRONTEND</th>\n",
       "      <th>AVG_SCORE_DATASCIENCE</th>\n",
       "      <th>...</th>\n",
       "      <th>HORAS P CURSO DS</th>\n",
       "      <th>HORAS P CURSO BE</th>\n",
       "      <th>HORAS P CURSO FE</th>\n",
       "      <th>HORAS P CURSO</th>\n",
       "      <th>VAR_AVG</th>\n",
       "      <th>VAR_COURSES</th>\n",
       "      <th>VAR_HOURS</th>\n",
       "      <th>MEAN_AVG</th>\n",
       "      <th>MEAN_COURSES</th>\n",
       "      <th>MEAN_HOURS</th>\n",
       "    </tr>\n",
       "  </thead>\n",
       "  <tbody>\n",
       "    <tr>\n",
       "      <th>0</th>\n",
       "      <td>-1.362835</td>\n",
       "      <td>-0.197464</td>\n",
       "      <td>-0.383686</td>\n",
       "      <td>-0.844902</td>\n",
       "      <td>0.136989</td>\n",
       "      <td>-1.756203</td>\n",
       "      <td>-0.661504</td>\n",
       "      <td>0.303954</td>\n",
       "      <td>-1.688214</td>\n",
       "      <td>1.272008</td>\n",
       "      <td>...</td>\n",
       "      <td>-0.737237</td>\n",
       "      <td>-0.355554</td>\n",
       "      <td>-0.949365</td>\n",
       "      <td>0.145325</td>\n",
       "      <td>4.466023</td>\n",
       "      <td>-0.019993</td>\n",
       "      <td>-0.345315</td>\n",
       "      <td>-1.356217</td>\n",
       "      <td>-1.907905</td>\n",
       "      <td>-1.171408</td>\n",
       "    </tr>\n",
       "    <tr>\n",
       "      <th>1</th>\n",
       "      <td>-0.247184</td>\n",
       "      <td>-1.933181</td>\n",
       "      <td>0.344183</td>\n",
       "      <td>-0.844902</td>\n",
       "      <td>-1.764318</td>\n",
       "      <td>-1.756203</td>\n",
       "      <td>-1.608675</td>\n",
       "      <td>0.303954</td>\n",
       "      <td>-1.688214</td>\n",
       "      <td>0.171288</td>\n",
       "      <td>...</td>\n",
       "      <td>1.500452</td>\n",
       "      <td>-0.988097</td>\n",
       "      <td>-0.949365</td>\n",
       "      <td>2.581539</td>\n",
       "      <td>2.902313</td>\n",
       "      <td>-0.019993</td>\n",
       "      <td>0.269616</td>\n",
       "      <td>-2.920812</td>\n",
       "      <td>-3.106966</td>\n",
       "      <td>-1.144092</td>\n",
       "    </tr>\n",
       "    <tr>\n",
       "      <th>2</th>\n",
       "      <td>0.332955</td>\n",
       "      <td>-1.933181</td>\n",
       "      <td>1.072051</td>\n",
       "      <td>-1.842543</td>\n",
       "      <td>0.612316</td>\n",
       "      <td>-0.017560</td>\n",
       "      <td>-1.608675</td>\n",
       "      <td>-0.158404</td>\n",
       "      <td>-1.186008</td>\n",
       "      <td>-4.166842</td>\n",
       "      <td>...</td>\n",
       "      <td>-1.012041</td>\n",
       "      <td>-0.988097</td>\n",
       "      <td>0.772399</td>\n",
       "      <td>0.939857</td>\n",
       "      <td>2.264408</td>\n",
       "      <td>0.291056</td>\n",
       "      <td>1.049345</td>\n",
       "      <td>-3.294954</td>\n",
       "      <td>-1.708062</td>\n",
       "      <td>-0.379231</td>\n",
       "    </tr>\n",
       "    <tr>\n",
       "      <th>3</th>\n",
       "      <td>-0.068679</td>\n",
       "      <td>-1.087575</td>\n",
       "      <td>-0.432211</td>\n",
       "      <td>-1.842543</td>\n",
       "      <td>0.612316</td>\n",
       "      <td>1.286422</td>\n",
       "      <td>-1.608675</td>\n",
       "      <td>0.303954</td>\n",
       "      <td>-0.181597</td>\n",
       "      <td>-4.166842</td>\n",
       "      <td>...</td>\n",
       "      <td>-1.012041</td>\n",
       "      <td>-0.710751</td>\n",
       "      <td>-0.540810</td>\n",
       "      <td>-0.630002</td>\n",
       "      <td>4.622336</td>\n",
       "      <td>1.217088</td>\n",
       "      <td>-1.104137</td>\n",
       "      <td>-1.288191</td>\n",
       "      <td>-0.509001</td>\n",
       "      <td>-0.952877</td>\n",
       "    </tr>\n",
       "    <tr>\n",
       "      <th>4</th>\n",
       "      <td>1.046971</td>\n",
       "      <td>1.538252</td>\n",
       "      <td>0.053035</td>\n",
       "      <td>1.150379</td>\n",
       "      <td>3.464277</td>\n",
       "      <td>-1.756203</td>\n",
       "      <td>0.285667</td>\n",
       "      <td>-0.620761</td>\n",
       "      <td>-1.688214</td>\n",
       "      <td>0.106540</td>\n",
       "      <td>...</td>\n",
       "      <td>-0.054153</td>\n",
       "      <td>-0.174828</td>\n",
       "      <td>-0.949365</td>\n",
       "      <td>0.914206</td>\n",
       "      <td>4.296653</td>\n",
       "      <td>3.104155</td>\n",
       "      <td>0.012028</td>\n",
       "      <td>-1.594307</td>\n",
       "      <td>0.290372</td>\n",
       "      <td>1.614869</td>\n",
       "    </tr>\n",
       "  </tbody>\n",
       "</table>\n",
       "<p>5 rows × 31 columns</p>\n",
       "</div>"
      ],
      "text/plain": [
       "   HOURS_DATASCIENCE  HOURS_BACKEND  HOURS_FRONTEND  \\\n",
       "0          -1.362835      -0.197464       -0.383686   \n",
       "1          -0.247184      -1.933181        0.344183   \n",
       "2           0.332955      -1.933181        1.072051   \n",
       "3          -0.068679      -1.087575       -0.432211   \n",
       "4           1.046971       1.538252        0.053035   \n",
       "\n",
       "   NUM_COURSES_BEGINNER_DATASCIENCE  NUM_COURSES_BEGINNER_BACKEND  \\\n",
       "0                         -0.844902                      0.136989   \n",
       "1                         -0.844902                     -1.764318   \n",
       "2                         -1.842543                      0.612316   \n",
       "3                         -1.842543                      0.612316   \n",
       "4                          1.150379                      3.464277   \n",
       "\n",
       "   NUM_COURSES_BEGINNER_FRONTEND  NUM_COURSES_ADVANCED_DATASCIENCE  \\\n",
       "0                      -1.756203                         -0.661504   \n",
       "1                      -1.756203                         -1.608675   \n",
       "2                      -0.017560                         -1.608675   \n",
       "3                       1.286422                         -1.608675   \n",
       "4                      -1.756203                          0.285667   \n",
       "\n",
       "   NUM_COURSES_ADVANCED_BACKEND  NUM_COURSES_ADVANCED_FRONTEND  \\\n",
       "0                      0.303954                      -1.688214   \n",
       "1                      0.303954                      -1.688214   \n",
       "2                     -0.158404                      -1.186008   \n",
       "3                      0.303954                      -0.181597   \n",
       "4                     -0.620761                      -1.688214   \n",
       "\n",
       "   AVG_SCORE_DATASCIENCE  ...  HORAS P CURSO DS  HORAS P CURSO BE  \\\n",
       "0               1.272008  ...         -0.737237         -0.355554   \n",
       "1               0.171288  ...          1.500452         -0.988097   \n",
       "2              -4.166842  ...         -1.012041         -0.988097   \n",
       "3              -4.166842  ...         -1.012041         -0.710751   \n",
       "4               0.106540  ...         -0.054153         -0.174828   \n",
       "\n",
       "   HORAS P CURSO FE  HORAS P CURSO   VAR_AVG  VAR_COURSES  VAR_HOURS  \\\n",
       "0         -0.949365       0.145325  4.466023    -0.019993  -0.345315   \n",
       "1         -0.949365       2.581539  2.902313    -0.019993   0.269616   \n",
       "2          0.772399       0.939857  2.264408     0.291056   1.049345   \n",
       "3         -0.540810      -0.630002  4.622336     1.217088  -1.104137   \n",
       "4         -0.949365       0.914206  4.296653     3.104155   0.012028   \n",
       "\n",
       "   MEAN_AVG  MEAN_COURSES  MEAN_HOURS  \n",
       "0 -1.356217     -1.907905   -1.171408  \n",
       "1 -2.920812     -3.106966   -1.144092  \n",
       "2 -3.294954     -1.708062   -0.379231  \n",
       "3 -1.288191     -0.509001   -0.952877  \n",
       "4 -1.594307      0.290372    1.614869  \n",
       "\n",
       "[5 rows x 31 columns]"
      ]
     },
     "execution_count": 33,
     "metadata": {},
     "output_type": "execute_result"
    }
   ],
   "source": [
    "X.head()"
   ]
  },
  {
   "cell_type": "markdown",
   "metadata": {},
   "source": [
    "La variable objetivo (y):"
   ]
  },
  {
   "cell_type": "markdown",
   "metadata": {},
   "source": [
    "#### Separar el conjunto de datos en un conjunto de entrenamiento y un conjunto de prueba"
   ]
  },
  {
   "cell_type": "markdown",
   "metadata": {},
   "source": [
    "Separaremos el conjunto de datos provisto en dos grupos: uno para entrenar nuestro modelo y otro para probar el resultado a través de una prueba ciega. La separación del conjunto de datos se puede hacer fácilmente con el método *train_test_split ()* de scikit-learn:"
   ]
  },
  {
   "cell_type": "code",
   "execution_count": 36,
   "metadata": {},
   "outputs": [],
   "source": [
    "# Separación de datos en conjunto de entrenamiento y conjunto de pruebas\n",
    "X_train, X_test, y_train, y_test = train_test_split(X, y, test_size=0.3, random_state=337,stratify=y)"
   ]
  },
  {
   "cell_type": "markdown",
   "metadata": {},
   "source": [
    "#### Creando un modelo basado en árboles de decisión"
   ]
  },
  {
   "cell_type": "markdown",
   "metadata": {},
   "source": [
    "En el ejemplo proporcionado, crearemos un clasificador basado en **árboles de decisión**.\n",
    "\n",
    "El primer paso es básicamente crear una instancia de un objeto *DecisionTreeClassifier ()* de la biblioteca scikit-learn."
   ]
  },
  {
   "cell_type": "code",
   "execution_count": 37,
   "metadata": {},
   "outputs": [],
   "source": [
    "# Creando el árbol de decisiones con la biblioteca ``scikit-learn``:\n",
    "dtc_model=GradientBoostingClassifier(criterion='friedman_mse', init=None,\n",
    "              learning_rate=0.05, loss='deviance', max_depth=6,\n",
    "              max_features=None, max_leaf_nodes=None,\n",
    "              min_impurity_decrease=0.0, min_impurity_split=None,\n",
    "              min_samples_leaf=1, min_samples_split=2,\n",
    "              min_weight_fraction_leaf=0.0, n_estimators=500,\n",
    "              n_iter_no_change=None, presort='auto', random_state=123,\n",
    "              subsample=1.0, tol=0.0001, validation_fraction=0.1,\n",
    "              verbose=0, warm_start=False)"
   ]
  },
  {
   "cell_type": "code",
   "execution_count": 874,
   "metadata": {},
   "outputs": [],
   "source": [
    "random_grid={'n_estimators':[300,400,500,600],\n",
    "            'learning_rate':[0.1,0.05,0.01],\n",
    "            'max_depth':[4,6,8]}"
   ]
  },
  {
   "cell_type": "code",
   "execution_count": 875,
   "metadata": {},
   "outputs": [
    {
     "name": "stdout",
     "output_type": "stream",
     "text": [
      "Fitting 3 folds for each of 5 candidates, totalling 15 fits\n"
     ]
    },
    {
     "name": "stderr",
     "output_type": "stream",
     "text": [
      "[Parallel(n_jobs=-1)]: Using backend LokyBackend with 2 concurrent workers.\n",
      "/opt/conda/envs/Python36/lib/python3.6/site-packages/sklearn/externals/joblib/externals/loky/process_executor.py:700: UserWarning: A worker stopped while some jobs were given to the executor. This can be caused by a too short worker timeout or by a memory leak.\n",
      "  \"timeout or by a memory leak.\", UserWarning\n",
      "[Parallel(n_jobs=-1)]: Done  15 out of  15 | elapsed: 32.2min finished\n",
      "/opt/conda/envs/Python36/lib/python3.6/site-packages/sklearn/utils/validation.py:752: DataConversionWarning: A column-vector y was passed when a 1d array was expected. Please change the shape of y to (n_samples, ), for example using ravel().\n",
      "  y = column_or_1d(y, warn=True)\n"
     ]
    },
    {
     "data": {
      "text/plain": [
       "{'n_estimators': 614,\n",
       " 'min_samples_split': 10,\n",
       " 'min_samples_leaf': 4,\n",
       " 'max_features': 'sqrt',\n",
       " 'max_depth': 16,\n",
       " 'learning_rate': 0.009666211437775225}"
      ]
     },
     "execution_count": 875,
     "metadata": {},
     "output_type": "execute_result"
    }
   ],
   "source": [
    "random_search=GridSearchCV(estimator = dtc_model, param_grid = random_grid, \n",
    "                                 cv = 3, verbose=3,n_jobs = -1)\n",
    "random_search.fit(X_train,y_train)\n",
    "random_search.best_params_"
   ]
  },
  {
   "cell_type": "code",
   "execution_count": 876,
   "metadata": {},
   "outputs": [],
   "source": [
    "dtc_model=random_search.best_estimator_"
   ]
  },
  {
   "cell_type": "markdown",
   "metadata": {},
   "source": [
    "Material teórico sobre árboles de decisión en la documentación oficial de scikit-learn: https://scikit-learn.org/stable/modules/tree.html\n",
    "\n",
    "Una guía para principiantes del mundo del aprendizaje automático: https://developer.ibm.com/es/patterns/use-icp4d-to-build-the-machine-learning-model-for-return-propensity/"
   ]
  },
  {
   "cell_type": "markdown",
   "metadata": {},
   "source": [
    "#### Ejecucion del entrenamiento del árbol de descisión "
   ]
  },
  {
   "cell_type": "code",
   "execution_count": null,
   "metadata": {},
   "outputs": [],
   "source": [
    "# Entrenamiento de modelos (llamado método *fit ()* con conjuntos de entrenamiento)\n",
    "dtc_model.fit(\n",
    "    X_train,\n",
    "    y_train\n",
    ")"
   ]
  },
  {
   "cell_type": "markdown",
   "metadata": {},
   "source": [
    "#### Ejecución de predicciones y evaluación del modelo creado"
   ]
  },
  {
   "cell_type": "code",
   "execution_count": 878,
   "metadata": {},
   "outputs": [],
   "source": [
    "# Realización de una prueba a ciegas en el modelo creado\n",
    "y_pred = dtc_model.predict(X_test)"
   ]
  },
  {
   "cell_type": "code",
   "execution_count": 879,
   "metadata": {},
   "outputs": [
    {
     "data": {
      "text/html": [
       "<div>\n",
       "<style scoped>\n",
       "    .dataframe tbody tr th:only-of-type {\n",
       "        vertical-align: middle;\n",
       "    }\n",
       "\n",
       "    .dataframe tbody tr th {\n",
       "        vertical-align: top;\n",
       "    }\n",
       "\n",
       "    .dataframe thead th {\n",
       "        text-align: right;\n",
       "    }\n",
       "</style>\n",
       "<table border=\"1\" class=\"dataframe\">\n",
       "  <thead>\n",
       "    <tr style=\"text-align: right;\">\n",
       "      <th></th>\n",
       "      <th>HOURS_DATASCIENCE</th>\n",
       "      <th>HOURS_BACKEND</th>\n",
       "      <th>HOURS_FRONTEND</th>\n",
       "      <th>NUM_COURSES_BEGINNER_DATASCIENCE</th>\n",
       "      <th>NUM_COURSES_BEGINNER_BACKEND</th>\n",
       "      <th>NUM_COURSES_BEGINNER_FRONTEND</th>\n",
       "      <th>NUM_COURSES_ADVANCED_DATASCIENCE</th>\n",
       "      <th>NUM_COURSES_ADVANCED_BACKEND</th>\n",
       "      <th>NUM_COURSES_ADVANCED_FRONTEND</th>\n",
       "      <th>AVG_SCORE_DATASCIENCE</th>\n",
       "      <th>...</th>\n",
       "      <th>FLAG_A_DS</th>\n",
       "      <th>FLAG_A_FE</th>\n",
       "      <th>FLAG_A_BE</th>\n",
       "      <th>HORAS P CURSO</th>\n",
       "      <th>MIN_DS_C</th>\n",
       "      <th>MIN_BE_C</th>\n",
       "      <th>MIN_FE_C</th>\n",
       "      <th>MIN_DS_A_C</th>\n",
       "      <th>MIN_BE_A_C</th>\n",
       "      <th>MIN_FE_A_C</th>\n",
       "    </tr>\n",
       "  </thead>\n",
       "  <tbody>\n",
       "    <tr>\n",
       "      <th>2293</th>\n",
       "      <td>59.0</td>\n",
       "      <td>82.0</td>\n",
       "      <td>16.0</td>\n",
       "      <td>6.0</td>\n",
       "      <td>2.0</td>\n",
       "      <td>4.0</td>\n",
       "      <td>9.0</td>\n",
       "      <td>7.0</td>\n",
       "      <td>4.0</td>\n",
       "      <td>57.0</td>\n",
       "      <td>...</td>\n",
       "      <td>513.0</td>\n",
       "      <td>260.0</td>\n",
       "      <td>287.0</td>\n",
       "      <td>4.906250</td>\n",
       "      <td>0</td>\n",
       "      <td>1</td>\n",
       "      <td>0</td>\n",
       "      <td>0</td>\n",
       "      <td>0</td>\n",
       "      <td>0</td>\n",
       "    </tr>\n",
       "    <tr>\n",
       "      <th>4313</th>\n",
       "      <td>50.0</td>\n",
       "      <td>35.0</td>\n",
       "      <td>15.0</td>\n",
       "      <td>4.0</td>\n",
       "      <td>3.0</td>\n",
       "      <td>2.0</td>\n",
       "      <td>9.0</td>\n",
       "      <td>3.0</td>\n",
       "      <td>8.0</td>\n",
       "      <td>67.0</td>\n",
       "      <td>...</td>\n",
       "      <td>603.0</td>\n",
       "      <td>496.0</td>\n",
       "      <td>237.0</td>\n",
       "      <td>3.448276</td>\n",
       "      <td>0</td>\n",
       "      <td>0</td>\n",
       "      <td>1</td>\n",
       "      <td>0</td>\n",
       "      <td>0</td>\n",
       "      <td>0</td>\n",
       "    </tr>\n",
       "    <tr>\n",
       "      <th>19931</th>\n",
       "      <td>42.0</td>\n",
       "      <td>34.0</td>\n",
       "      <td>0.0</td>\n",
       "      <td>6.0</td>\n",
       "      <td>3.0</td>\n",
       "      <td>7.0</td>\n",
       "      <td>0.0</td>\n",
       "      <td>10.0</td>\n",
       "      <td>3.0</td>\n",
       "      <td>52.0</td>\n",
       "      <td>...</td>\n",
       "      <td>0.0</td>\n",
       "      <td>132.0</td>\n",
       "      <td>720.0</td>\n",
       "      <td>2.620690</td>\n",
       "      <td>0</td>\n",
       "      <td>0</td>\n",
       "      <td>0</td>\n",
       "      <td>1</td>\n",
       "      <td>0</td>\n",
       "      <td>0</td>\n",
       "    </tr>\n",
       "    <tr>\n",
       "      <th>6606</th>\n",
       "      <td>72.0</td>\n",
       "      <td>23.0</td>\n",
       "      <td>43.0</td>\n",
       "      <td>1.0</td>\n",
       "      <td>6.0</td>\n",
       "      <td>4.0</td>\n",
       "      <td>4.0</td>\n",
       "      <td>4.0</td>\n",
       "      <td>2.0</td>\n",
       "      <td>58.0</td>\n",
       "      <td>...</td>\n",
       "      <td>232.0</td>\n",
       "      <td>128.0</td>\n",
       "      <td>196.0</td>\n",
       "      <td>6.571429</td>\n",
       "      <td>1</td>\n",
       "      <td>0</td>\n",
       "      <td>0</td>\n",
       "      <td>0</td>\n",
       "      <td>0</td>\n",
       "      <td>0</td>\n",
       "    </tr>\n",
       "    <tr>\n",
       "      <th>1471</th>\n",
       "      <td>30.0</td>\n",
       "      <td>85.0</td>\n",
       "      <td>42.0</td>\n",
       "      <td>6.0</td>\n",
       "      <td>4.0</td>\n",
       "      <td>5.0</td>\n",
       "      <td>6.0</td>\n",
       "      <td>4.0</td>\n",
       "      <td>3.0</td>\n",
       "      <td>61.0</td>\n",
       "      <td>...</td>\n",
       "      <td>366.0</td>\n",
       "      <td>237.0</td>\n",
       "      <td>204.0</td>\n",
       "      <td>5.607143</td>\n",
       "      <td>0</td>\n",
       "      <td>0</td>\n",
       "      <td>0</td>\n",
       "      <td>0</td>\n",
       "      <td>0</td>\n",
       "      <td>1</td>\n",
       "    </tr>\n",
       "  </tbody>\n",
       "</table>\n",
       "<p>5 rows × 25 columns</p>\n",
       "</div>"
      ],
      "text/plain": [
       "       HOURS_DATASCIENCE  HOURS_BACKEND  HOURS_FRONTEND  \\\n",
       "2293                59.0           82.0            16.0   \n",
       "4313                50.0           35.0            15.0   \n",
       "19931               42.0           34.0             0.0   \n",
       "6606                72.0           23.0            43.0   \n",
       "1471                30.0           85.0            42.0   \n",
       "\n",
       "       NUM_COURSES_BEGINNER_DATASCIENCE  NUM_COURSES_BEGINNER_BACKEND  \\\n",
       "2293                                6.0                           2.0   \n",
       "4313                                4.0                           3.0   \n",
       "19931                               6.0                           3.0   \n",
       "6606                                1.0                           6.0   \n",
       "1471                                6.0                           4.0   \n",
       "\n",
       "       NUM_COURSES_BEGINNER_FRONTEND  NUM_COURSES_ADVANCED_DATASCIENCE  \\\n",
       "2293                             4.0                               9.0   \n",
       "4313                             2.0                               9.0   \n",
       "19931                            7.0                               0.0   \n",
       "6606                             4.0                               4.0   \n",
       "1471                             5.0                               6.0   \n",
       "\n",
       "       NUM_COURSES_ADVANCED_BACKEND  NUM_COURSES_ADVANCED_FRONTEND  \\\n",
       "2293                            7.0                            4.0   \n",
       "4313                            3.0                            8.0   \n",
       "19931                          10.0                            3.0   \n",
       "6606                            4.0                            2.0   \n",
       "1471                            4.0                            3.0   \n",
       "\n",
       "       AVG_SCORE_DATASCIENCE  ...  FLAG_A_DS  FLAG_A_FE  FLAG_A_BE  \\\n",
       "2293                    57.0  ...      513.0      260.0      287.0   \n",
       "4313                    67.0  ...      603.0      496.0      237.0   \n",
       "19931                   52.0  ...        0.0      132.0      720.0   \n",
       "6606                    58.0  ...      232.0      128.0      196.0   \n",
       "1471                    61.0  ...      366.0      237.0      204.0   \n",
       "\n",
       "       HORAS P CURSO  MIN_DS_C  MIN_BE_C  MIN_FE_C  MIN_DS_A_C  MIN_BE_A_C  \\\n",
       "2293        4.906250         0         1         0           0           0   \n",
       "4313        3.448276         0         0         1           0           0   \n",
       "19931       2.620690         0         0         0           1           0   \n",
       "6606        6.571429         1         0         0           0           0   \n",
       "1471        5.607143         0         0         0           0           0   \n",
       "\n",
       "       MIN_FE_A_C  \n",
       "2293            0  \n",
       "4313            0  \n",
       "19931           0  \n",
       "6606            0  \n",
       "1471            1  \n",
       "\n",
       "[5 rows x 25 columns]"
      ]
     },
     "execution_count": 879,
     "metadata": {},
     "output_type": "execute_result"
    }
   ],
   "source": [
    "X_test.head()"
   ]
  },
  {
   "cell_type": "code",
   "execution_count": 880,
   "metadata": {},
   "outputs": [
    {
     "name": "stdout",
     "output_type": "stream",
     "text": [
      "['advanced_data_science' 'advanced_backend' 'advanced_data_science' ...\n",
      " 'beginner_backend' 'beginner_backend' 'beginner_front_end']\n"
     ]
    }
   ],
   "source": [
    "print(y_pred)"
   ]
  },
  {
   "cell_type": "code",
   "execution_count": 881,
   "metadata": {},
   "outputs": [
    {
     "name": "stdout",
     "output_type": "stream",
     "text": [
      "Exactitud: 93.0%\n"
     ]
    }
   ],
   "source": [
    "# Precisión lograda por el árbol de decisiones\n",
    "print(\"Exactitud: {}%\".format(100*round(accuracy_score(y_test, y_pred),3)))"
   ]
  },
  {
   "cell_type": "code",
   "execution_count": 882,
   "metadata": {},
   "outputs": [
    {
     "data": {
      "text/plain": [
       "0.9296666666666666"
      ]
     },
     "execution_count": 882,
     "metadata": {},
     "output_type": "execute_result"
    }
   ],
   "source": [
    "accuracy_score(y_test, y_pred)"
   ]
  },
  {
   "cell_type": "code",
   "execution_count": 883,
   "metadata": {},
   "outputs": [
    {
     "name": "stderr",
     "output_type": "stream",
     "text": [
      "/opt/conda/envs/Python36/lib/python3.6/site-packages/sklearn/utils/validation.py:752: DataConversionWarning: A column-vector y was passed when a 1d array was expected. Please change the shape of y to (n_samples, ), for example using ravel().\n",
      "  y = column_or_1d(y, warn=True)\n",
      "/opt/conda/envs/Python36/lib/python3.6/site-packages/sklearn/utils/validation.py:752: DataConversionWarning: A column-vector y was passed when a 1d array was expected. Please change the shape of y to (n_samples, ), for example using ravel().\n",
      "  y = column_or_1d(y, warn=True)\n",
      "/opt/conda/envs/Python36/lib/python3.6/site-packages/sklearn/utils/validation.py:752: DataConversionWarning: A column-vector y was passed when a 1d array was expected. Please change the shape of y to (n_samples, ), for example using ravel().\n",
      "  y = column_or_1d(y, warn=True)\n",
      "/opt/conda/envs/Python36/lib/python3.6/site-packages/sklearn/utils/validation.py:752: DataConversionWarning: A column-vector y was passed when a 1d array was expected. Please change the shape of y to (n_samples, ), for example using ravel().\n",
      "  y = column_or_1d(y, warn=True)\n",
      "/opt/conda/envs/Python36/lib/python3.6/site-packages/sklearn/utils/validation.py:752: DataConversionWarning: A column-vector y was passed when a 1d array was expected. Please change the shape of y to (n_samples, ), for example using ravel().\n",
      "  y = column_or_1d(y, warn=True)\n"
     ]
    },
    {
     "data": {
      "text/plain": [
       "0.9271001995732494"
      ]
     },
     "execution_count": 883,
     "metadata": {},
     "output_type": "execute_result"
    }
   ],
   "source": [
    "scores = cross_validate(dtc_model, X, y, cv=5)\n",
    "(scores['test_score']).mean()"
   ]
  },
  {
   "cell_type": "code",
   "execution_count": 822,
   "metadata": {},
   "outputs": [
    {
     "name": "stderr",
     "output_type": "stream",
     "text": [
      "/opt/conda/envs/Python36/lib/python3.6/site-packages/sklearn/utils/deprecation.py:125: FutureWarning: You are accessing a training score ('train_score'), which will not be available by default any more in 0.21. If you need training scores, please set return_train_score=True\n",
      "  warnings.warn(*warn_args, **warn_kwargs)\n"
     ]
    },
    {
     "data": {
      "text/plain": [
       "{'fit_time': array([54.80262876, 54.12052274, 53.38793993, 54.14425182, 53.98807597]),\n",
       " 'score_time': array([0.5168469 , 0.5177381 , 0.51345015, 0.51392937, 0.49797845]),\n",
       " 'test_score': array([0.93203398, 0.91704148, 0.92773193, 0.9259815 , 0.94072036]),\n",
       " 'train_score': array([0.93286661, 0.93705463, 0.93312918, 0.93475408, 0.93088364])}"
      ]
     },
     "execution_count": 822,
     "metadata": {},
     "output_type": "execute_result"
    }
   ],
   "source": [
    "scores"
   ]
  },
  {
   "cell_type": "code",
   "execution_count": 744,
   "metadata": {},
   "outputs": [
    {
     "name": "stdout",
     "output_type": "stream",
     "text": [
      "Feature: HOURS_DATASCIENCE, Score: 0.056382160633802414\n",
      "Feature: HOURS_BACKEND, Score: 0.06099138781428337\n",
      "Feature: HOURS_FRONTEND, Score: 0.0553915835916996\n",
      "Feature: NUM_COURSES_BEGINNER_DATASCIENCE, Score: 0.018335826694965363\n",
      "Feature: NUM_COURSES_BEGINNER_BACKEND, Score: 0.02666478045284748\n",
      "Feature: NUM_COURSES_BEGINNER_FRONTEND, Score: 0.01409048680216074\n",
      "Feature: NUM_COURSES_ADVANCED_DATASCIENCE, Score: 0.020600007846951485\n",
      "Feature: NUM_COURSES_ADVANCED_BACKEND, Score: 0.024966644123196602\n",
      "Feature: NUM_COURSES_ADVANCED_FRONTEND, Score: 0.022924836724996567\n",
      "Feature: AVG_SCORE_DATASCIENCE, Score: 0.06885537505149841\n",
      "Feature: AVG_SCORE_BACKEND, Score: 0.06026361510157585\n",
      "Feature: AVG_SCORE_FRONTEND, Score: 0.06905753165483475\n",
      "Feature: FLAG_B_DS, Score: 0.04356527701020241\n",
      "Feature: FLAG_B_FE, Score: 0.05799943581223488\n",
      "Feature: FLAG_B_BE, Score: 0.05015566200017929\n",
      "Feature: FLAG_A_DS, Score: 0.05037803575396538\n",
      "Feature: FLAG_A_FE, Score: 0.03980511799454689\n",
      "Feature: FLAG_A_BE, Score: 0.046112481504678726\n",
      "Feature: FLAG_A_DS_COMP, Score: 0.04204908385872841\n",
      "Feature: FLAG_A_FE_COMP, Score: 0.04704241454601288\n",
      "Feature: FLAG_A_BE_COMP, Score: 0.05403711646795273\n",
      "Feature: HORAS P CURSO, Score: 0.0520155243575573\n",
      "Feature: MIN_DS_C, Score: 0.003355840453878045\n",
      "Feature: MIN_BE_C, Score: 0.0028706586454063654\n",
      "Feature: MIN_FE_C, Score: 0.0025876360014081\n",
      "Feature: MIN_DS_A_C, Score: 0.0036388630978763103\n",
      "Feature: MIN_BE_A_C, Score: 0.0014555451925843954\n",
      "Feature: MIN_FE_A_C, Score: 0.004407067317515612\n"
     ]
    },
    {
     "data": {
      "image/png": "[encoded data removed]",
      "text/plain": [
       "<Figure size 432x288 with 1 Axes>"
      ]
     },
     "metadata": {
      "needs_background": "light"
     },
     "output_type": "display_data"
    }
   ],
   "source": [
    "importance = dtc_model.feature_importances_\n",
    "# summarize feature importance\n",
    "for i,v in enumerate(importance):\n",
    "\tprint('Feature: {}, Score: {}'.format(X_test.columns[i],v))\n",
    "# plot feature importance\n",
    "plt.barh([x for x in X_test.columns], importance)\n",
    "plt.show()"
   ]
  },
  {
   "cell_type": "markdown",
   "metadata": {},
   "source": [
    "<hr>"
   ]
  },
  {
   "cell_type": "markdown",
   "metadata": {},
   "source": [
    "Este notebook demostró cómo trabajar con transformaciones y modelos con la biblioteca scikit-learn. Se recomienda que el participante realice sus experimentos editando el código proporcionado aquí hasta lograr un modelo con alta precisión.\n",
    "\n",
    "Cuando esté satisfecho con su modelo, puede pasar al segundo paso del desafío: encapsular su modelo como una API REST lista para usar con Watson Machine Learning.\n",
    "\n",
    "El notebook para la segunda etapa ya está en este proyecto, simplemente acceda a la pestaña **ASSETS** e inícielo. No olvide apagar primero el Kernel en este portátil para reducir el consumo de su nivel gratuito de IBM Cloud Pak for Data."
   ]
  },
  {
   "cell_type": "code",
   "execution_count": null,
   "metadata": {},
   "outputs": [],
   "source": []
  }
 ],
 "metadata": {
  "kernelspec": {
   "display_name": "Python 3",
   "language": "python",
   "name": "python3"
  },
  "language_info": {
   "codemirror_mode": {
    "name": "ipython",
    "version": 3
   },
   "file_extension": ".py",
   "mimetype": "text/x-python",
   "name": "python",
   "nbconvert_exporter": "python",
   "pygments_lexer": "ipython3",
   "version": "3.7.3"
  }
 },
 "nbformat": 4,
 "nbformat_minor": 1
}
